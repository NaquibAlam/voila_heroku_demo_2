{
 "cells": [
  {
   "cell_type": "markdown",
   "metadata": {},
   "source": [
    "<h1><center>My Reddit monitoring dashboard for Python 🐍</center></h1>\n"
   ]
  },
  {
   "cell_type": "markdown",
   "metadata": {},
   "source": [
    "<center><i>A simple dashboard to monitor keywords in Reddit, made with <a href=\"https://github.com/voila-dashboards/voila\">Voila</a>, <a href=\"https://pandas.pydata.org/\">Pandas</a>, <a href=\"https://plot.ly/python/plotly-express/\">Plotly Express</a> and <a href=\"https://textblob.readthedocs.io/en/dev/\">TextBlob</a>.</i></center>"
   ]
  },
  {
   "cell_type": "markdown",
   "metadata": {},
   "source": [
    "<center><i><a href=\"https://github.com/NaquibAlam/voila_heroku_demo_2\">Source code on github</a></i></center>"
   ]
  },
  {
   "cell_type": "code",
   "execution_count": 14,
   "metadata": {},
   "outputs": [
    {
     "name": "stderr",
     "output_type": "stream",
     "text": [
      "[nltk_data] Downloading package punkt to /Users/m0a04ut/nltk_data...\n",
      "[nltk_data]   Package punkt is already up-to-date!\n",
      "/Users/m0a04ut/anaconda3/lib/python3.7/site-packages/ipykernel_launcher.py:10: FutureWarning:\n",
      "\n",
      "Passing a negative integer is deprecated in version 1.0 and will not be supported in future version. Instead, use None to not limit the column width.\n",
      "\n"
     ]
    }
   ],
   "source": [
    "# import libraries\n",
    "\n",
    "import requests\n",
    "import pandas\n",
    "import textblob\n",
    "import plotly.express as px\n",
    "import nltk\n",
    "import matplotlib.pyplot as plt\n",
    "nltk.download('punkt')\n",
    "pandas.set_option('display.max_colwidth', -1) # don't cut my pandas dataframes"
   ]
  },
  {
   "cell_type": "code",
   "execution_count": 18,
   "metadata": {},
   "outputs": [],
   "source": [
    "# define variables\n",
    "\n",
    "COMMENT_COLOR         = \"blueviolet\"\n",
    "SUBMISSION_COLOR      = \"darkorange\"\n",
    "TEXT_PREVIEW_SIZE     = 240\n",
    "TERM_OF_INTEREST      = \"covid\"\n",
    "SUBREDDIT_OF_INTEREST = \"covid\"\n",
    "TIMEFRAME             = \"48h\" # see more options in the pushshift api docs: https://github.com/pushshift/api\n",
    "SIZE= 500 #no of records to return"
   ]
  },
  {
   "cell_type": "code",
   "execution_count": 19,
   "metadata": {},
   "outputs": [],
   "source": [
    "# a couple of helper functions\n",
    "\n",
    "def get_reddit_data(data_type, **kwargs):\n",
    "    \"\"\"\n",
    "    Gets data from the pushshift api.\n",
    "    \n",
    "    Data type can be 'comment' or 'submission'\n",
    "    The rest of the args as interpreted as payload.\n",
    "    \n",
    "    Read more: https://github.com/pushshift/api\n",
    "    \"\"\"\n",
    "    \n",
    "    base_url = f\"https://api.pushshift.io/reddit/search/{data_type}/\"\n",
    "    payload = kwargs\n",
    "    \n",
    "    request = requests.get(base_url, params=payload)\n",
    "    \n",
    "    return request.json()\n",
    "\n",
    "\n",
    "def make_clickable(val):\n",
    "    \"\"\"\n",
    "    Makes a pandas column clickable.\n",
    "    \"\"\"\n",
    "    \n",
    "    return '<a href=\"{}\">Link</a>'.format(val)"
   ]
  },
  {
   "cell_type": "markdown",
   "metadata": {},
   "source": [
    "# Figure Index\n",
    "\n",
    "- [Comment activity](#1)\n",
    "- [Submission activity](#2)\n",
    "- [Most upvoted comments](#3) \n",
    "- [Most commented submissions](#4) \n",
    "- [/r/python comment sentiment timeline](#5)"
   ]
  },
  {
   "cell_type": "markdown",
   "metadata": {},
   "source": [
    "## Comment activity <a class=\"anchor\" id=\"1\"></a>"
   ]
  },
  {
   "cell_type": "code",
   "execution_count": 39,
   "metadata": {
    "tags": []
   },
   "outputs": [
    {
     "data": {
      "application/vnd.plotly.v1+json": {
       "config": {
        "plotlyServerURL": "https://plot.ly"
       },
       "data": [
        {
         "alignmentgroup": "True",
         "hoverlabel": {
          "namelength": 0
         },
         "hovertemplate": "Subreddits=%{x}<br>Number of comments=%{y}",
         "legendgroup": "",
         "marker": {
          "color": "blueviolet"
         },
         "name": "",
         "offsetgroup": "",
         "orientation": "v",
         "showlegend": false,
         "textposition": "auto",
         "type": "bar",
         "x": [
          "NoNewNormal",
          "conspiracy",
          "Teachers",
          "COVID19positive",
          "formula1",
          "AskReddit",
          "wallstreetbets",
          "GME",
          "TheRightCantMeme",
          "ukpolitics"
         ],
         "xaxis": "x",
         "y": [
          4,
          4,
          3,
          3,
          2,
          2,
          2,
          2,
          2,
          2
         ],
         "yaxis": "y"
        }
       ],
       "layout": {
        "barmode": "relative",
        "height": 500,
        "legend": {
         "tracegroupgap": 0
        },
        "template": {
         "data": {
          "bar": [
           {
            "error_x": {
             "color": "#2a3f5f"
            },
            "error_y": {
             "color": "#2a3f5f"
            },
            "marker": {
             "line": {
              "color": "#E5ECF6",
              "width": 0.5
             }
            },
            "type": "bar"
           }
          ],
          "barpolar": [
           {
            "marker": {
             "line": {
              "color": "#E5ECF6",
              "width": 0.5
             }
            },
            "type": "barpolar"
           }
          ],
          "carpet": [
           {
            "aaxis": {
             "endlinecolor": "#2a3f5f",
             "gridcolor": "white",
             "linecolor": "white",
             "minorgridcolor": "white",
             "startlinecolor": "#2a3f5f"
            },
            "baxis": {
             "endlinecolor": "#2a3f5f",
             "gridcolor": "white",
             "linecolor": "white",
             "minorgridcolor": "white",
             "startlinecolor": "#2a3f5f"
            },
            "type": "carpet"
           }
          ],
          "choropleth": [
           {
            "colorbar": {
             "outlinewidth": 0,
             "ticks": ""
            },
            "type": "choropleth"
           }
          ],
          "contour": [
           {
            "colorbar": {
             "outlinewidth": 0,
             "ticks": ""
            },
            "colorscale": [
             [
              0,
              "#0d0887"
             ],
             [
              0.1111111111111111,
              "#46039f"
             ],
             [
              0.2222222222222222,
              "#7201a8"
             ],
             [
              0.3333333333333333,
              "#9c179e"
             ],
             [
              0.4444444444444444,
              "#bd3786"
             ],
             [
              0.5555555555555556,
              "#d8576b"
             ],
             [
              0.6666666666666666,
              "#ed7953"
             ],
             [
              0.7777777777777778,
              "#fb9f3a"
             ],
             [
              0.8888888888888888,
              "#fdca26"
             ],
             [
              1,
              "#f0f921"
             ]
            ],
            "type": "contour"
           }
          ],
          "contourcarpet": [
           {
            "colorbar": {
             "outlinewidth": 0,
             "ticks": ""
            },
            "type": "contourcarpet"
           }
          ],
          "heatmap": [
           {
            "colorbar": {
             "outlinewidth": 0,
             "ticks": ""
            },
            "colorscale": [
             [
              0,
              "#0d0887"
             ],
             [
              0.1111111111111111,
              "#46039f"
             ],
             [
              0.2222222222222222,
              "#7201a8"
             ],
             [
              0.3333333333333333,
              "#9c179e"
             ],
             [
              0.4444444444444444,
              "#bd3786"
             ],
             [
              0.5555555555555556,
              "#d8576b"
             ],
             [
              0.6666666666666666,
              "#ed7953"
             ],
             [
              0.7777777777777778,
              "#fb9f3a"
             ],
             [
              0.8888888888888888,
              "#fdca26"
             ],
             [
              1,
              "#f0f921"
             ]
            ],
            "type": "heatmap"
           }
          ],
          "heatmapgl": [
           {
            "colorbar": {
             "outlinewidth": 0,
             "ticks": ""
            },
            "colorscale": [
             [
              0,
              "#0d0887"
             ],
             [
              0.1111111111111111,
              "#46039f"
             ],
             [
              0.2222222222222222,
              "#7201a8"
             ],
             [
              0.3333333333333333,
              "#9c179e"
             ],
             [
              0.4444444444444444,
              "#bd3786"
             ],
             [
              0.5555555555555556,
              "#d8576b"
             ],
             [
              0.6666666666666666,
              "#ed7953"
             ],
             [
              0.7777777777777778,
              "#fb9f3a"
             ],
             [
              0.8888888888888888,
              "#fdca26"
             ],
             [
              1,
              "#f0f921"
             ]
            ],
            "type": "heatmapgl"
           }
          ],
          "histogram": [
           {
            "marker": {
             "colorbar": {
              "outlinewidth": 0,
              "ticks": ""
             }
            },
            "type": "histogram"
           }
          ],
          "histogram2d": [
           {
            "colorbar": {
             "outlinewidth": 0,
             "ticks": ""
            },
            "colorscale": [
             [
              0,
              "#0d0887"
             ],
             [
              0.1111111111111111,
              "#46039f"
             ],
             [
              0.2222222222222222,
              "#7201a8"
             ],
             [
              0.3333333333333333,
              "#9c179e"
             ],
             [
              0.4444444444444444,
              "#bd3786"
             ],
             [
              0.5555555555555556,
              "#d8576b"
             ],
             [
              0.6666666666666666,
              "#ed7953"
             ],
             [
              0.7777777777777778,
              "#fb9f3a"
             ],
             [
              0.8888888888888888,
              "#fdca26"
             ],
             [
              1,
              "#f0f921"
             ]
            ],
            "type": "histogram2d"
           }
          ],
          "histogram2dcontour": [
           {
            "colorbar": {
             "outlinewidth": 0,
             "ticks": ""
            },
            "colorscale": [
             [
              0,
              "#0d0887"
             ],
             [
              0.1111111111111111,
              "#46039f"
             ],
             [
              0.2222222222222222,
              "#7201a8"
             ],
             [
              0.3333333333333333,
              "#9c179e"
             ],
             [
              0.4444444444444444,
              "#bd3786"
             ],
             [
              0.5555555555555556,
              "#d8576b"
             ],
             [
              0.6666666666666666,
              "#ed7953"
             ],
             [
              0.7777777777777778,
              "#fb9f3a"
             ],
             [
              0.8888888888888888,
              "#fdca26"
             ],
             [
              1,
              "#f0f921"
             ]
            ],
            "type": "histogram2dcontour"
           }
          ],
          "mesh3d": [
           {
            "colorbar": {
             "outlinewidth": 0,
             "ticks": ""
            },
            "type": "mesh3d"
           }
          ],
          "parcoords": [
           {
            "line": {
             "colorbar": {
              "outlinewidth": 0,
              "ticks": ""
             }
            },
            "type": "parcoords"
           }
          ],
          "pie": [
           {
            "automargin": true,
            "type": "pie"
           }
          ],
          "scatter": [
           {
            "marker": {
             "colorbar": {
              "outlinewidth": 0,
              "ticks": ""
             }
            },
            "type": "scatter"
           }
          ],
          "scatter3d": [
           {
            "line": {
             "colorbar": {
              "outlinewidth": 0,
              "ticks": ""
             }
            },
            "marker": {
             "colorbar": {
              "outlinewidth": 0,
              "ticks": ""
             }
            },
            "type": "scatter3d"
           }
          ],
          "scattercarpet": [
           {
            "marker": {
             "colorbar": {
              "outlinewidth": 0,
              "ticks": ""
             }
            },
            "type": "scattercarpet"
           }
          ],
          "scattergeo": [
           {
            "marker": {
             "colorbar": {
              "outlinewidth": 0,
              "ticks": ""
             }
            },
            "type": "scattergeo"
           }
          ],
          "scattergl": [
           {
            "marker": {
             "colorbar": {
              "outlinewidth": 0,
              "ticks": ""
             }
            },
            "type": "scattergl"
           }
          ],
          "scattermapbox": [
           {
            "marker": {
             "colorbar": {
              "outlinewidth": 0,
              "ticks": ""
             }
            },
            "type": "scattermapbox"
           }
          ],
          "scatterpolar": [
           {
            "marker": {
             "colorbar": {
              "outlinewidth": 0,
              "ticks": ""
             }
            },
            "type": "scatterpolar"
           }
          ],
          "scatterpolargl": [
           {
            "marker": {
             "colorbar": {
              "outlinewidth": 0,
              "ticks": ""
             }
            },
            "type": "scatterpolargl"
           }
          ],
          "scatterternary": [
           {
            "marker": {
             "colorbar": {
              "outlinewidth": 0,
              "ticks": ""
             }
            },
            "type": "scatterternary"
           }
          ],
          "surface": [
           {
            "colorbar": {
             "outlinewidth": 0,
             "ticks": ""
            },
            "colorscale": [
             [
              0,
              "#0d0887"
             ],
             [
              0.1111111111111111,
              "#46039f"
             ],
             [
              0.2222222222222222,
              "#7201a8"
             ],
             [
              0.3333333333333333,
              "#9c179e"
             ],
             [
              0.4444444444444444,
              "#bd3786"
             ],
             [
              0.5555555555555556,
              "#d8576b"
             ],
             [
              0.6666666666666666,
              "#ed7953"
             ],
             [
              0.7777777777777778,
              "#fb9f3a"
             ],
             [
              0.8888888888888888,
              "#fdca26"
             ],
             [
              1,
              "#f0f921"
             ]
            ],
            "type": "surface"
           }
          ],
          "table": [
           {
            "cells": {
             "fill": {
              "color": "#EBF0F8"
             },
             "line": {
              "color": "white"
             }
            },
            "header": {
             "fill": {
              "color": "#C8D4E3"
             },
             "line": {
              "color": "white"
             }
            },
            "type": "table"
           }
          ]
         },
         "layout": {
          "annotationdefaults": {
           "arrowcolor": "#2a3f5f",
           "arrowhead": 0,
           "arrowwidth": 1
          },
          "coloraxis": {
           "colorbar": {
            "outlinewidth": 0,
            "ticks": ""
           }
          },
          "colorscale": {
           "diverging": [
            [
             0,
             "#8e0152"
            ],
            [
             0.1,
             "#c51b7d"
            ],
            [
             0.2,
             "#de77ae"
            ],
            [
             0.3,
             "#f1b6da"
            ],
            [
             0.4,
             "#fde0ef"
            ],
            [
             0.5,
             "#f7f7f7"
            ],
            [
             0.6,
             "#e6f5d0"
            ],
            [
             0.7,
             "#b8e186"
            ],
            [
             0.8,
             "#7fbc41"
            ],
            [
             0.9,
             "#4d9221"
            ],
            [
             1,
             "#276419"
            ]
           ],
           "sequential": [
            [
             0,
             "#0d0887"
            ],
            [
             0.1111111111111111,
             "#46039f"
            ],
            [
             0.2222222222222222,
             "#7201a8"
            ],
            [
             0.3333333333333333,
             "#9c179e"
            ],
            [
             0.4444444444444444,
             "#bd3786"
            ],
            [
             0.5555555555555556,
             "#d8576b"
            ],
            [
             0.6666666666666666,
             "#ed7953"
            ],
            [
             0.7777777777777778,
             "#fb9f3a"
            ],
            [
             0.8888888888888888,
             "#fdca26"
            ],
            [
             1,
             "#f0f921"
            ]
           ],
           "sequentialminus": [
            [
             0,
             "#0d0887"
            ],
            [
             0.1111111111111111,
             "#46039f"
            ],
            [
             0.2222222222222222,
             "#7201a8"
            ],
            [
             0.3333333333333333,
             "#9c179e"
            ],
            [
             0.4444444444444444,
             "#bd3786"
            ],
            [
             0.5555555555555556,
             "#d8576b"
            ],
            [
             0.6666666666666666,
             "#ed7953"
            ],
            [
             0.7777777777777778,
             "#fb9f3a"
            ],
            [
             0.8888888888888888,
             "#fdca26"
            ],
            [
             1,
             "#f0f921"
            ]
           ]
          },
          "colorway": [
           "#636efa",
           "#EF553B",
           "#00cc96",
           "#ab63fa",
           "#FFA15A",
           "#19d3f3",
           "#FF6692",
           "#B6E880",
           "#FF97FF",
           "#FECB52"
          ],
          "font": {
           "color": "#2a3f5f"
          },
          "geo": {
           "bgcolor": "white",
           "lakecolor": "white",
           "landcolor": "#E5ECF6",
           "showlakes": true,
           "showland": true,
           "subunitcolor": "white"
          },
          "hoverlabel": {
           "align": "left"
          },
          "hovermode": "closest",
          "mapbox": {
           "style": "light"
          },
          "paper_bgcolor": "white",
          "plot_bgcolor": "#E5ECF6",
          "polar": {
           "angularaxis": {
            "gridcolor": "white",
            "linecolor": "white",
            "ticks": ""
           },
           "bgcolor": "#E5ECF6",
           "radialaxis": {
            "gridcolor": "white",
            "linecolor": "white",
            "ticks": ""
           }
          },
          "scene": {
           "xaxis": {
            "backgroundcolor": "#E5ECF6",
            "gridcolor": "white",
            "gridwidth": 2,
            "linecolor": "white",
            "showbackground": true,
            "ticks": "",
            "zerolinecolor": "white"
           },
           "yaxis": {
            "backgroundcolor": "#E5ECF6",
            "gridcolor": "white",
            "gridwidth": 2,
            "linecolor": "white",
            "showbackground": true,
            "ticks": "",
            "zerolinecolor": "white"
           },
           "zaxis": {
            "backgroundcolor": "#E5ECF6",
            "gridcolor": "white",
            "gridwidth": 2,
            "linecolor": "white",
            "showbackground": true,
            "ticks": "",
            "zerolinecolor": "white"
           }
          },
          "shapedefaults": {
           "line": {
            "color": "#2a3f5f"
           }
          },
          "ternary": {
           "aaxis": {
            "gridcolor": "white",
            "linecolor": "white",
            "ticks": ""
           },
           "baxis": {
            "gridcolor": "white",
            "linecolor": "white",
            "ticks": ""
           },
           "bgcolor": "#E5ECF6",
           "caxis": {
            "gridcolor": "white",
            "linecolor": "white",
            "ticks": ""
           }
          },
          "title": {
           "x": 0.05
          },
          "xaxis": {
           "automargin": true,
           "gridcolor": "white",
           "linecolor": "white",
           "ticks": "",
           "title": {
            "standoff": 15
           },
           "zerolinecolor": "white",
           "zerolinewidth": 2
          },
          "yaxis": {
           "automargin": true,
           "gridcolor": "white",
           "linecolor": "white",
           "ticks": "",
           "title": {
            "standoff": 15
           },
           "zerolinecolor": "white",
           "zerolinewidth": 2
          }
         }
        },
        "title": {
         "text": "Subreddits with most comments having term 'covid' in the last 48h"
        },
        "width": 800,
        "xaxis": {
         "anchor": "y",
         "domain": [
          0,
          1
         ],
         "title": {
          "text": "Subreddits"
         }
        },
        "yaxis": {
         "anchor": "x",
         "domain": [
          0,
          1
         ],
         "title": {
          "text": "Number of comments"
         }
        }
       }
      },
      "text/html": [
       "<div>\n",
       "        \n",
       "        \n",
       "            <div id=\"4c5a37a6-112a-47c9-8a4f-40af556b0501\" class=\"plotly-graph-div\" style=\"height:500px; width:800px;\"></div>\n",
       "            <script type=\"text/javascript\">\n",
       "                require([\"plotly\"], function(Plotly) {\n",
       "                    window.PLOTLYENV=window.PLOTLYENV || {};\n",
       "                    \n",
       "                if (document.getElementById(\"4c5a37a6-112a-47c9-8a4f-40af556b0501\")) {\n",
       "                    Plotly.newPlot(\n",
       "                        '4c5a37a6-112a-47c9-8a4f-40af556b0501',\n",
       "                        [{\"alignmentgroup\": \"True\", \"hoverlabel\": {\"namelength\": 0}, \"hovertemplate\": \"Subreddits=%{x}<br>Number of comments=%{y}\", \"legendgroup\": \"\", \"marker\": {\"color\": \"blueviolet\"}, \"name\": \"\", \"offsetgroup\": \"\", \"orientation\": \"v\", \"showlegend\": false, \"textposition\": \"auto\", \"type\": \"bar\", \"x\": [\"NoNewNormal\", \"conspiracy\", \"Teachers\", \"COVID19positive\", \"formula1\", \"AskReddit\", \"wallstreetbets\", \"GME\", \"TheRightCantMeme\", \"ukpolitics\"], \"xaxis\": \"x\", \"y\": [4, 4, 3, 3, 2, 2, 2, 2, 2, 2], \"yaxis\": \"y\"}],\n",
       "                        {\"barmode\": \"relative\", \"height\": 500, \"legend\": {\"tracegroupgap\": 0}, \"template\": {\"data\": {\"bar\": [{\"error_x\": {\"color\": \"#2a3f5f\"}, \"error_y\": {\"color\": \"#2a3f5f\"}, \"marker\": {\"line\": {\"color\": \"#E5ECF6\", \"width\": 0.5}}, \"type\": \"bar\"}], \"barpolar\": [{\"marker\": {\"line\": {\"color\": \"#E5ECF6\", \"width\": 0.5}}, \"type\": \"barpolar\"}], \"carpet\": [{\"aaxis\": {\"endlinecolor\": \"#2a3f5f\", \"gridcolor\": \"white\", \"linecolor\": \"white\", \"minorgridcolor\": \"white\", \"startlinecolor\": \"#2a3f5f\"}, \"baxis\": {\"endlinecolor\": \"#2a3f5f\", \"gridcolor\": \"white\", \"linecolor\": \"white\", \"minorgridcolor\": \"white\", \"startlinecolor\": \"#2a3f5f\"}, \"type\": \"carpet\"}], \"choropleth\": [{\"colorbar\": {\"outlinewidth\": 0, \"ticks\": \"\"}, \"type\": \"choropleth\"}], \"contour\": [{\"colorbar\": {\"outlinewidth\": 0, \"ticks\": \"\"}, \"colorscale\": [[0.0, \"#0d0887\"], [0.1111111111111111, \"#46039f\"], [0.2222222222222222, \"#7201a8\"], [0.3333333333333333, \"#9c179e\"], [0.4444444444444444, \"#bd3786\"], [0.5555555555555556, \"#d8576b\"], [0.6666666666666666, \"#ed7953\"], [0.7777777777777778, \"#fb9f3a\"], [0.8888888888888888, \"#fdca26\"], [1.0, \"#f0f921\"]], \"type\": \"contour\"}], \"contourcarpet\": [{\"colorbar\": {\"outlinewidth\": 0, \"ticks\": \"\"}, \"type\": \"contourcarpet\"}], \"heatmap\": [{\"colorbar\": {\"outlinewidth\": 0, \"ticks\": \"\"}, \"colorscale\": [[0.0, \"#0d0887\"], [0.1111111111111111, \"#46039f\"], [0.2222222222222222, \"#7201a8\"], [0.3333333333333333, \"#9c179e\"], [0.4444444444444444, \"#bd3786\"], [0.5555555555555556, \"#d8576b\"], [0.6666666666666666, \"#ed7953\"], [0.7777777777777778, \"#fb9f3a\"], [0.8888888888888888, \"#fdca26\"], [1.0, \"#f0f921\"]], \"type\": \"heatmap\"}], \"heatmapgl\": [{\"colorbar\": {\"outlinewidth\": 0, \"ticks\": \"\"}, \"colorscale\": [[0.0, \"#0d0887\"], [0.1111111111111111, \"#46039f\"], [0.2222222222222222, \"#7201a8\"], [0.3333333333333333, \"#9c179e\"], [0.4444444444444444, \"#bd3786\"], [0.5555555555555556, \"#d8576b\"], [0.6666666666666666, \"#ed7953\"], [0.7777777777777778, \"#fb9f3a\"], [0.8888888888888888, \"#fdca26\"], [1.0, \"#f0f921\"]], \"type\": \"heatmapgl\"}], \"histogram\": [{\"marker\": {\"colorbar\": {\"outlinewidth\": 0, \"ticks\": \"\"}}, \"type\": \"histogram\"}], \"histogram2d\": [{\"colorbar\": {\"outlinewidth\": 0, \"ticks\": \"\"}, \"colorscale\": [[0.0, \"#0d0887\"], [0.1111111111111111, \"#46039f\"], [0.2222222222222222, \"#7201a8\"], [0.3333333333333333, \"#9c179e\"], [0.4444444444444444, \"#bd3786\"], [0.5555555555555556, \"#d8576b\"], [0.6666666666666666, \"#ed7953\"], [0.7777777777777778, \"#fb9f3a\"], [0.8888888888888888, \"#fdca26\"], [1.0, \"#f0f921\"]], \"type\": \"histogram2d\"}], \"histogram2dcontour\": [{\"colorbar\": {\"outlinewidth\": 0, \"ticks\": \"\"}, \"colorscale\": [[0.0, \"#0d0887\"], [0.1111111111111111, \"#46039f\"], [0.2222222222222222, \"#7201a8\"], [0.3333333333333333, \"#9c179e\"], [0.4444444444444444, \"#bd3786\"], [0.5555555555555556, \"#d8576b\"], [0.6666666666666666, \"#ed7953\"], [0.7777777777777778, \"#fb9f3a\"], [0.8888888888888888, \"#fdca26\"], [1.0, \"#f0f921\"]], \"type\": \"histogram2dcontour\"}], \"mesh3d\": [{\"colorbar\": {\"outlinewidth\": 0, \"ticks\": \"\"}, \"type\": \"mesh3d\"}], \"parcoords\": [{\"line\": {\"colorbar\": {\"outlinewidth\": 0, \"ticks\": \"\"}}, \"type\": \"parcoords\"}], \"pie\": [{\"automargin\": true, \"type\": \"pie\"}], \"scatter\": [{\"marker\": {\"colorbar\": {\"outlinewidth\": 0, \"ticks\": \"\"}}, \"type\": \"scatter\"}], \"scatter3d\": [{\"line\": {\"colorbar\": {\"outlinewidth\": 0, \"ticks\": \"\"}}, \"marker\": {\"colorbar\": {\"outlinewidth\": 0, \"ticks\": \"\"}}, \"type\": \"scatter3d\"}], \"scattercarpet\": [{\"marker\": {\"colorbar\": {\"outlinewidth\": 0, \"ticks\": \"\"}}, \"type\": \"scattercarpet\"}], \"scattergeo\": [{\"marker\": {\"colorbar\": {\"outlinewidth\": 0, \"ticks\": \"\"}}, \"type\": \"scattergeo\"}], \"scattergl\": [{\"marker\": {\"colorbar\": {\"outlinewidth\": 0, \"ticks\": \"\"}}, \"type\": \"scattergl\"}], \"scattermapbox\": [{\"marker\": {\"colorbar\": {\"outlinewidth\": 0, \"ticks\": \"\"}}, \"type\": \"scattermapbox\"}], \"scatterpolar\": [{\"marker\": {\"colorbar\": {\"outlinewidth\": 0, \"ticks\": \"\"}}, \"type\": \"scatterpolar\"}], \"scatterpolargl\": [{\"marker\": {\"colorbar\": {\"outlinewidth\": 0, \"ticks\": \"\"}}, \"type\": \"scatterpolargl\"}], \"scatterternary\": [{\"marker\": {\"colorbar\": {\"outlinewidth\": 0, \"ticks\": \"\"}}, \"type\": \"scatterternary\"}], \"surface\": [{\"colorbar\": {\"outlinewidth\": 0, \"ticks\": \"\"}, \"colorscale\": [[0.0, \"#0d0887\"], [0.1111111111111111, \"#46039f\"], [0.2222222222222222, \"#7201a8\"], [0.3333333333333333, \"#9c179e\"], [0.4444444444444444, \"#bd3786\"], [0.5555555555555556, \"#d8576b\"], [0.6666666666666666, \"#ed7953\"], [0.7777777777777778, \"#fb9f3a\"], [0.8888888888888888, \"#fdca26\"], [1.0, \"#f0f921\"]], \"type\": \"surface\"}], \"table\": [{\"cells\": {\"fill\": {\"color\": \"#EBF0F8\"}, \"line\": {\"color\": \"white\"}}, \"header\": {\"fill\": {\"color\": \"#C8D4E3\"}, \"line\": {\"color\": \"white\"}}, \"type\": \"table\"}]}, \"layout\": {\"annotationdefaults\": {\"arrowcolor\": \"#2a3f5f\", \"arrowhead\": 0, \"arrowwidth\": 1}, \"coloraxis\": {\"colorbar\": {\"outlinewidth\": 0, \"ticks\": \"\"}}, \"colorscale\": {\"diverging\": [[0, \"#8e0152\"], [0.1, \"#c51b7d\"], [0.2, \"#de77ae\"], [0.3, \"#f1b6da\"], [0.4, \"#fde0ef\"], [0.5, \"#f7f7f7\"], [0.6, \"#e6f5d0\"], [0.7, \"#b8e186\"], [0.8, \"#7fbc41\"], [0.9, \"#4d9221\"], [1, \"#276419\"]], \"sequential\": [[0.0, \"#0d0887\"], [0.1111111111111111, \"#46039f\"], [0.2222222222222222, \"#7201a8\"], [0.3333333333333333, \"#9c179e\"], [0.4444444444444444, \"#bd3786\"], [0.5555555555555556, \"#d8576b\"], [0.6666666666666666, \"#ed7953\"], [0.7777777777777778, \"#fb9f3a\"], [0.8888888888888888, \"#fdca26\"], [1.0, \"#f0f921\"]], \"sequentialminus\": [[0.0, \"#0d0887\"], [0.1111111111111111, \"#46039f\"], [0.2222222222222222, \"#7201a8\"], [0.3333333333333333, \"#9c179e\"], [0.4444444444444444, \"#bd3786\"], [0.5555555555555556, \"#d8576b\"], [0.6666666666666666, \"#ed7953\"], [0.7777777777777778, \"#fb9f3a\"], [0.8888888888888888, \"#fdca26\"], [1.0, \"#f0f921\"]]}, \"colorway\": [\"#636efa\", \"#EF553B\", \"#00cc96\", \"#ab63fa\", \"#FFA15A\", \"#19d3f3\", \"#FF6692\", \"#B6E880\", \"#FF97FF\", \"#FECB52\"], \"font\": {\"color\": \"#2a3f5f\"}, \"geo\": {\"bgcolor\": \"white\", \"lakecolor\": \"white\", \"landcolor\": \"#E5ECF6\", \"showlakes\": true, \"showland\": true, \"subunitcolor\": \"white\"}, \"hoverlabel\": {\"align\": \"left\"}, \"hovermode\": \"closest\", \"mapbox\": {\"style\": \"light\"}, \"paper_bgcolor\": \"white\", \"plot_bgcolor\": \"#E5ECF6\", \"polar\": {\"angularaxis\": {\"gridcolor\": \"white\", \"linecolor\": \"white\", \"ticks\": \"\"}, \"bgcolor\": \"#E5ECF6\", \"radialaxis\": {\"gridcolor\": \"white\", \"linecolor\": \"white\", \"ticks\": \"\"}}, \"scene\": {\"xaxis\": {\"backgroundcolor\": \"#E5ECF6\", \"gridcolor\": \"white\", \"gridwidth\": 2, \"linecolor\": \"white\", \"showbackground\": true, \"ticks\": \"\", \"zerolinecolor\": \"white\"}, \"yaxis\": {\"backgroundcolor\": \"#E5ECF6\", \"gridcolor\": \"white\", \"gridwidth\": 2, \"linecolor\": \"white\", \"showbackground\": true, \"ticks\": \"\", \"zerolinecolor\": \"white\"}, \"zaxis\": {\"backgroundcolor\": \"#E5ECF6\", \"gridcolor\": \"white\", \"gridwidth\": 2, \"linecolor\": \"white\", \"showbackground\": true, \"ticks\": \"\", \"zerolinecolor\": \"white\"}}, \"shapedefaults\": {\"line\": {\"color\": \"#2a3f5f\"}}, \"ternary\": {\"aaxis\": {\"gridcolor\": \"white\", \"linecolor\": \"white\", \"ticks\": \"\"}, \"baxis\": {\"gridcolor\": \"white\", \"linecolor\": \"white\", \"ticks\": \"\"}, \"bgcolor\": \"#E5ECF6\", \"caxis\": {\"gridcolor\": \"white\", \"linecolor\": \"white\", \"ticks\": \"\"}}, \"title\": {\"x\": 0.05}, \"xaxis\": {\"automargin\": true, \"gridcolor\": \"white\", \"linecolor\": \"white\", \"ticks\": \"\", \"title\": {\"standoff\": 15}, \"zerolinecolor\": \"white\", \"zerolinewidth\": 2}, \"yaxis\": {\"automargin\": true, \"gridcolor\": \"white\", \"linecolor\": \"white\", \"ticks\": \"\", \"title\": {\"standoff\": 15}, \"zerolinecolor\": \"white\", \"zerolinewidth\": 2}}}, \"title\": {\"text\": \"Subreddits with most comments having term 'covid' in the last 48h\"}, \"width\": 800, \"xaxis\": {\"anchor\": \"y\", \"domain\": [0.0, 1.0], \"title\": {\"text\": \"Subreddits\"}}, \"yaxis\": {\"anchor\": \"x\", \"domain\": [0.0, 1.0], \"title\": {\"text\": \"Number of comments\"}}},\n",
       "                        {\"responsive\": true}\n",
       "                    ).then(function(){\n",
       "                            \n",
       "var gd = document.getElementById('4c5a37a6-112a-47c9-8a4f-40af556b0501');\n",
       "var x = new MutationObserver(function (mutations, observer) {{\n",
       "        var display = window.getComputedStyle(gd).display;\n",
       "        if (!display || display === 'none') {{\n",
       "            console.log([gd, 'removed!']);\n",
       "            Plotly.purge(gd);\n",
       "            observer.disconnect();\n",
       "        }}\n",
       "}});\n",
       "\n",
       "// Listen for the removal of the full notebook cells\n",
       "var notebookContainer = gd.closest('#notebook-container');\n",
       "if (notebookContainer) {{\n",
       "    x.observe(notebookContainer, {childList: true});\n",
       "}}\n",
       "\n",
       "// Listen for the clearing of the current output cell\n",
       "var outputEl = gd.closest('.output');\n",
       "if (outputEl) {{\n",
       "    x.observe(outputEl, {childList: true});\n",
       "}}\n",
       "\n",
       "                        })\n",
       "                };\n",
       "                });\n",
       "            </script>\n",
       "        </div>"
      ]
     },
     "metadata": {},
     "output_type": "display_data"
    }
   ],
   "source": [
    "data = get_reddit_data(data_type=\"comment\", q=TERM_OF_INTEREST, after=TIMEFRAME, size= SIZE, aggs=\"subreddit\").get(\"data\")\n",
    "\n",
    "df = pandas.DataFrame(data)[\"subreddit\"].value_counts()[0:10]\n",
    "x = df.keys()\n",
    "y = df.values\n",
    "\n",
    "px.bar(df,\n",
    "       x=x,\n",
    "       y=y,\n",
    "       title=f\"Subreddits with most comments having term '{TERM_OF_INTEREST}' in the last {TIMEFRAME}\",\n",
    "       labels={\"x\": \"Subreddits\", \"y\": \"Number of comments\"},\n",
    "       color_discrete_sequence=[COMMENT_COLOR],\n",
    "       height=500,\n",
    "       width=800)"
   ]
  },
  {
   "cell_type": "markdown",
   "metadata": {},
   "source": [
    "## Submission activity <a class=\"anchor\" id=\"2\"></a>"
   ]
  },
  {
   "cell_type": "code",
   "execution_count": 27,
   "metadata": {},
   "outputs": [
    {
     "data": {
      "application/vnd.plotly.v1+json": {
       "config": {
        "plotlyServerURL": "https://plot.ly"
       },
       "data": [
        {
         "alignmentgroup": "True",
         "hoverlabel": {
          "namelength": 0
         },
         "hovertemplate": "Subreddits=%{x}<br>Number of submissions=%{y}",
         "legendgroup": "",
         "marker": {
          "color": "blueviolet"
         },
         "name": "",
         "offsetgroup": "",
         "orientation": "v",
         "showlegend": false,
         "textposition": "auto",
         "type": "bar",
         "x": [
          "u_toronto_news",
          "COVID_CANADA",
          "AskReddit",
          "InNews",
          "publix",
          "munichsocialclub",
          "AutoNewspaper",
          "uknews",
          "copenhagen",
          "takemysurvey"
         ],
         "xaxis": "x",
         "y": [
          26,
          8,
          4,
          3,
          2,
          2,
          2,
          2,
          1,
          1
         ],
         "yaxis": "y"
        }
       ],
       "layout": {
        "barmode": "relative",
        "height": 500,
        "legend": {
         "tracegroupgap": 0
        },
        "template": {
         "data": {
          "bar": [
           {
            "error_x": {
             "color": "#2a3f5f"
            },
            "error_y": {
             "color": "#2a3f5f"
            },
            "marker": {
             "line": {
              "color": "#E5ECF6",
              "width": 0.5
             }
            },
            "type": "bar"
           }
          ],
          "barpolar": [
           {
            "marker": {
             "line": {
              "color": "#E5ECF6",
              "width": 0.5
             }
            },
            "type": "barpolar"
           }
          ],
          "carpet": [
           {
            "aaxis": {
             "endlinecolor": "#2a3f5f",
             "gridcolor": "white",
             "linecolor": "white",
             "minorgridcolor": "white",
             "startlinecolor": "#2a3f5f"
            },
            "baxis": {
             "endlinecolor": "#2a3f5f",
             "gridcolor": "white",
             "linecolor": "white",
             "minorgridcolor": "white",
             "startlinecolor": "#2a3f5f"
            },
            "type": "carpet"
           }
          ],
          "choropleth": [
           {
            "colorbar": {
             "outlinewidth": 0,
             "ticks": ""
            },
            "type": "choropleth"
           }
          ],
          "contour": [
           {
            "colorbar": {
             "outlinewidth": 0,
             "ticks": ""
            },
            "colorscale": [
             [
              0,
              "#0d0887"
             ],
             [
              0.1111111111111111,
              "#46039f"
             ],
             [
              0.2222222222222222,
              "#7201a8"
             ],
             [
              0.3333333333333333,
              "#9c179e"
             ],
             [
              0.4444444444444444,
              "#bd3786"
             ],
             [
              0.5555555555555556,
              "#d8576b"
             ],
             [
              0.6666666666666666,
              "#ed7953"
             ],
             [
              0.7777777777777778,
              "#fb9f3a"
             ],
             [
              0.8888888888888888,
              "#fdca26"
             ],
             [
              1,
              "#f0f921"
             ]
            ],
            "type": "contour"
           }
          ],
          "contourcarpet": [
           {
            "colorbar": {
             "outlinewidth": 0,
             "ticks": ""
            },
            "type": "contourcarpet"
           }
          ],
          "heatmap": [
           {
            "colorbar": {
             "outlinewidth": 0,
             "ticks": ""
            },
            "colorscale": [
             [
              0,
              "#0d0887"
             ],
             [
              0.1111111111111111,
              "#46039f"
             ],
             [
              0.2222222222222222,
              "#7201a8"
             ],
             [
              0.3333333333333333,
              "#9c179e"
             ],
             [
              0.4444444444444444,
              "#bd3786"
             ],
             [
              0.5555555555555556,
              "#d8576b"
             ],
             [
              0.6666666666666666,
              "#ed7953"
             ],
             [
              0.7777777777777778,
              "#fb9f3a"
             ],
             [
              0.8888888888888888,
              "#fdca26"
             ],
             [
              1,
              "#f0f921"
             ]
            ],
            "type": "heatmap"
           }
          ],
          "heatmapgl": [
           {
            "colorbar": {
             "outlinewidth": 0,
             "ticks": ""
            },
            "colorscale": [
             [
              0,
              "#0d0887"
             ],
             [
              0.1111111111111111,
              "#46039f"
             ],
             [
              0.2222222222222222,
              "#7201a8"
             ],
             [
              0.3333333333333333,
              "#9c179e"
             ],
             [
              0.4444444444444444,
              "#bd3786"
             ],
             [
              0.5555555555555556,
              "#d8576b"
             ],
             [
              0.6666666666666666,
              "#ed7953"
             ],
             [
              0.7777777777777778,
              "#fb9f3a"
             ],
             [
              0.8888888888888888,
              "#fdca26"
             ],
             [
              1,
              "#f0f921"
             ]
            ],
            "type": "heatmapgl"
           }
          ],
          "histogram": [
           {
            "marker": {
             "colorbar": {
              "outlinewidth": 0,
              "ticks": ""
             }
            },
            "type": "histogram"
           }
          ],
          "histogram2d": [
           {
            "colorbar": {
             "outlinewidth": 0,
             "ticks": ""
            },
            "colorscale": [
             [
              0,
              "#0d0887"
             ],
             [
              0.1111111111111111,
              "#46039f"
             ],
             [
              0.2222222222222222,
              "#7201a8"
             ],
             [
              0.3333333333333333,
              "#9c179e"
             ],
             [
              0.4444444444444444,
              "#bd3786"
             ],
             [
              0.5555555555555556,
              "#d8576b"
             ],
             [
              0.6666666666666666,
              "#ed7953"
             ],
             [
              0.7777777777777778,
              "#fb9f3a"
             ],
             [
              0.8888888888888888,
              "#fdca26"
             ],
             [
              1,
              "#f0f921"
             ]
            ],
            "type": "histogram2d"
           }
          ],
          "histogram2dcontour": [
           {
            "colorbar": {
             "outlinewidth": 0,
             "ticks": ""
            },
            "colorscale": [
             [
              0,
              "#0d0887"
             ],
             [
              0.1111111111111111,
              "#46039f"
             ],
             [
              0.2222222222222222,
              "#7201a8"
             ],
             [
              0.3333333333333333,
              "#9c179e"
             ],
             [
              0.4444444444444444,
              "#bd3786"
             ],
             [
              0.5555555555555556,
              "#d8576b"
             ],
             [
              0.6666666666666666,
              "#ed7953"
             ],
             [
              0.7777777777777778,
              "#fb9f3a"
             ],
             [
              0.8888888888888888,
              "#fdca26"
             ],
             [
              1,
              "#f0f921"
             ]
            ],
            "type": "histogram2dcontour"
           }
          ],
          "mesh3d": [
           {
            "colorbar": {
             "outlinewidth": 0,
             "ticks": ""
            },
            "type": "mesh3d"
           }
          ],
          "parcoords": [
           {
            "line": {
             "colorbar": {
              "outlinewidth": 0,
              "ticks": ""
             }
            },
            "type": "parcoords"
           }
          ],
          "pie": [
           {
            "automargin": true,
            "type": "pie"
           }
          ],
          "scatter": [
           {
            "marker": {
             "colorbar": {
              "outlinewidth": 0,
              "ticks": ""
             }
            },
            "type": "scatter"
           }
          ],
          "scatter3d": [
           {
            "line": {
             "colorbar": {
              "outlinewidth": 0,
              "ticks": ""
             }
            },
            "marker": {
             "colorbar": {
              "outlinewidth": 0,
              "ticks": ""
             }
            },
            "type": "scatter3d"
           }
          ],
          "scattercarpet": [
           {
            "marker": {
             "colorbar": {
              "outlinewidth": 0,
              "ticks": ""
             }
            },
            "type": "scattercarpet"
           }
          ],
          "scattergeo": [
           {
            "marker": {
             "colorbar": {
              "outlinewidth": 0,
              "ticks": ""
             }
            },
            "type": "scattergeo"
           }
          ],
          "scattergl": [
           {
            "marker": {
             "colorbar": {
              "outlinewidth": 0,
              "ticks": ""
             }
            },
            "type": "scattergl"
           }
          ],
          "scattermapbox": [
           {
            "marker": {
             "colorbar": {
              "outlinewidth": 0,
              "ticks": ""
             }
            },
            "type": "scattermapbox"
           }
          ],
          "scatterpolar": [
           {
            "marker": {
             "colorbar": {
              "outlinewidth": 0,
              "ticks": ""
             }
            },
            "type": "scatterpolar"
           }
          ],
          "scatterpolargl": [
           {
            "marker": {
             "colorbar": {
              "outlinewidth": 0,
              "ticks": ""
             }
            },
            "type": "scatterpolargl"
           }
          ],
          "scatterternary": [
           {
            "marker": {
             "colorbar": {
              "outlinewidth": 0,
              "ticks": ""
             }
            },
            "type": "scatterternary"
           }
          ],
          "surface": [
           {
            "colorbar": {
             "outlinewidth": 0,
             "ticks": ""
            },
            "colorscale": [
             [
              0,
              "#0d0887"
             ],
             [
              0.1111111111111111,
              "#46039f"
             ],
             [
              0.2222222222222222,
              "#7201a8"
             ],
             [
              0.3333333333333333,
              "#9c179e"
             ],
             [
              0.4444444444444444,
              "#bd3786"
             ],
             [
              0.5555555555555556,
              "#d8576b"
             ],
             [
              0.6666666666666666,
              "#ed7953"
             ],
             [
              0.7777777777777778,
              "#fb9f3a"
             ],
             [
              0.8888888888888888,
              "#fdca26"
             ],
             [
              1,
              "#f0f921"
             ]
            ],
            "type": "surface"
           }
          ],
          "table": [
           {
            "cells": {
             "fill": {
              "color": "#EBF0F8"
             },
             "line": {
              "color": "white"
             }
            },
            "header": {
             "fill": {
              "color": "#C8D4E3"
             },
             "line": {
              "color": "white"
             }
            },
            "type": "table"
           }
          ]
         },
         "layout": {
          "annotationdefaults": {
           "arrowcolor": "#2a3f5f",
           "arrowhead": 0,
           "arrowwidth": 1
          },
          "coloraxis": {
           "colorbar": {
            "outlinewidth": 0,
            "ticks": ""
           }
          },
          "colorscale": {
           "diverging": [
            [
             0,
             "#8e0152"
            ],
            [
             0.1,
             "#c51b7d"
            ],
            [
             0.2,
             "#de77ae"
            ],
            [
             0.3,
             "#f1b6da"
            ],
            [
             0.4,
             "#fde0ef"
            ],
            [
             0.5,
             "#f7f7f7"
            ],
            [
             0.6,
             "#e6f5d0"
            ],
            [
             0.7,
             "#b8e186"
            ],
            [
             0.8,
             "#7fbc41"
            ],
            [
             0.9,
             "#4d9221"
            ],
            [
             1,
             "#276419"
            ]
           ],
           "sequential": [
            [
             0,
             "#0d0887"
            ],
            [
             0.1111111111111111,
             "#46039f"
            ],
            [
             0.2222222222222222,
             "#7201a8"
            ],
            [
             0.3333333333333333,
             "#9c179e"
            ],
            [
             0.4444444444444444,
             "#bd3786"
            ],
            [
             0.5555555555555556,
             "#d8576b"
            ],
            [
             0.6666666666666666,
             "#ed7953"
            ],
            [
             0.7777777777777778,
             "#fb9f3a"
            ],
            [
             0.8888888888888888,
             "#fdca26"
            ],
            [
             1,
             "#f0f921"
            ]
           ],
           "sequentialminus": [
            [
             0,
             "#0d0887"
            ],
            [
             0.1111111111111111,
             "#46039f"
            ],
            [
             0.2222222222222222,
             "#7201a8"
            ],
            [
             0.3333333333333333,
             "#9c179e"
            ],
            [
             0.4444444444444444,
             "#bd3786"
            ],
            [
             0.5555555555555556,
             "#d8576b"
            ],
            [
             0.6666666666666666,
             "#ed7953"
            ],
            [
             0.7777777777777778,
             "#fb9f3a"
            ],
            [
             0.8888888888888888,
             "#fdca26"
            ],
            [
             1,
             "#f0f921"
            ]
           ]
          },
          "colorway": [
           "#636efa",
           "#EF553B",
           "#00cc96",
           "#ab63fa",
           "#FFA15A",
           "#19d3f3",
           "#FF6692",
           "#B6E880",
           "#FF97FF",
           "#FECB52"
          ],
          "font": {
           "color": "#2a3f5f"
          },
          "geo": {
           "bgcolor": "white",
           "lakecolor": "white",
           "landcolor": "#E5ECF6",
           "showlakes": true,
           "showland": true,
           "subunitcolor": "white"
          },
          "hoverlabel": {
           "align": "left"
          },
          "hovermode": "closest",
          "mapbox": {
           "style": "light"
          },
          "paper_bgcolor": "white",
          "plot_bgcolor": "#E5ECF6",
          "polar": {
           "angularaxis": {
            "gridcolor": "white",
            "linecolor": "white",
            "ticks": ""
           },
           "bgcolor": "#E5ECF6",
           "radialaxis": {
            "gridcolor": "white",
            "linecolor": "white",
            "ticks": ""
           }
          },
          "scene": {
           "xaxis": {
            "backgroundcolor": "#E5ECF6",
            "gridcolor": "white",
            "gridwidth": 2,
            "linecolor": "white",
            "showbackground": true,
            "ticks": "",
            "zerolinecolor": "white"
           },
           "yaxis": {
            "backgroundcolor": "#E5ECF6",
            "gridcolor": "white",
            "gridwidth": 2,
            "linecolor": "white",
            "showbackground": true,
            "ticks": "",
            "zerolinecolor": "white"
           },
           "zaxis": {
            "backgroundcolor": "#E5ECF6",
            "gridcolor": "white",
            "gridwidth": 2,
            "linecolor": "white",
            "showbackground": true,
            "ticks": "",
            "zerolinecolor": "white"
           }
          },
          "shapedefaults": {
           "line": {
            "color": "#2a3f5f"
           }
          },
          "ternary": {
           "aaxis": {
            "gridcolor": "white",
            "linecolor": "white",
            "ticks": ""
           },
           "baxis": {
            "gridcolor": "white",
            "linecolor": "white",
            "ticks": ""
           },
           "bgcolor": "#E5ECF6",
           "caxis": {
            "gridcolor": "white",
            "linecolor": "white",
            "ticks": ""
           }
          },
          "title": {
           "x": 0.05
          },
          "xaxis": {
           "automargin": true,
           "gridcolor": "white",
           "linecolor": "white",
           "ticks": "",
           "title": {
            "standoff": 15
           },
           "zerolinecolor": "white",
           "zerolinewidth": 2
          },
          "yaxis": {
           "automargin": true,
           "gridcolor": "white",
           "linecolor": "white",
           "ticks": "",
           "title": {
            "standoff": 15
           },
           "zerolinecolor": "white",
           "zerolinewidth": 2
          }
         }
        },
        "title": {
         "text": "Subreddits with most submissions having term 'covid' in the last 48h"
        },
        "width": 800,
        "xaxis": {
         "anchor": "y",
         "domain": [
          0,
          1
         ],
         "title": {
          "text": "Subreddits"
         }
        },
        "yaxis": {
         "anchor": "x",
         "domain": [
          0,
          1
         ],
         "title": {
          "text": "Number of submissions"
         }
        }
       }
      },
      "text/html": [
       "<div>\n",
       "        \n",
       "        \n",
       "            <div id=\"590e0d4c-482a-434b-bc1b-1299dddb6542\" class=\"plotly-graph-div\" style=\"height:500px; width:800px;\"></div>\n",
       "            <script type=\"text/javascript\">\n",
       "                require([\"plotly\"], function(Plotly) {\n",
       "                    window.PLOTLYENV=window.PLOTLYENV || {};\n",
       "                    \n",
       "                if (document.getElementById(\"590e0d4c-482a-434b-bc1b-1299dddb6542\")) {\n",
       "                    Plotly.newPlot(\n",
       "                        '590e0d4c-482a-434b-bc1b-1299dddb6542',\n",
       "                        [{\"alignmentgroup\": \"True\", \"hoverlabel\": {\"namelength\": 0}, \"hovertemplate\": \"Subreddits=%{x}<br>Number of submissions=%{y}\", \"legendgroup\": \"\", \"marker\": {\"color\": \"blueviolet\"}, \"name\": \"\", \"offsetgroup\": \"\", \"orientation\": \"v\", \"showlegend\": false, \"textposition\": \"auto\", \"type\": \"bar\", \"x\": [\"u_toronto_news\", \"COVID_CANADA\", \"AskReddit\", \"InNews\", \"publix\", \"munichsocialclub\", \"AutoNewspaper\", \"uknews\", \"copenhagen\", \"takemysurvey\"], \"xaxis\": \"x\", \"y\": [26, 8, 4, 3, 2, 2, 2, 2, 1, 1], \"yaxis\": \"y\"}],\n",
       "                        {\"barmode\": \"relative\", \"height\": 500, \"legend\": {\"tracegroupgap\": 0}, \"template\": {\"data\": {\"bar\": [{\"error_x\": {\"color\": \"#2a3f5f\"}, \"error_y\": {\"color\": \"#2a3f5f\"}, \"marker\": {\"line\": {\"color\": \"#E5ECF6\", \"width\": 0.5}}, \"type\": \"bar\"}], \"barpolar\": [{\"marker\": {\"line\": {\"color\": \"#E5ECF6\", \"width\": 0.5}}, \"type\": \"barpolar\"}], \"carpet\": [{\"aaxis\": {\"endlinecolor\": \"#2a3f5f\", \"gridcolor\": \"white\", \"linecolor\": \"white\", \"minorgridcolor\": \"white\", \"startlinecolor\": \"#2a3f5f\"}, \"baxis\": {\"endlinecolor\": \"#2a3f5f\", \"gridcolor\": \"white\", \"linecolor\": \"white\", \"minorgridcolor\": \"white\", \"startlinecolor\": \"#2a3f5f\"}, \"type\": \"carpet\"}], \"choropleth\": [{\"colorbar\": {\"outlinewidth\": 0, \"ticks\": \"\"}, \"type\": \"choropleth\"}], \"contour\": [{\"colorbar\": {\"outlinewidth\": 0, \"ticks\": \"\"}, \"colorscale\": [[0.0, \"#0d0887\"], [0.1111111111111111, \"#46039f\"], [0.2222222222222222, \"#7201a8\"], [0.3333333333333333, \"#9c179e\"], [0.4444444444444444, \"#bd3786\"], [0.5555555555555556, \"#d8576b\"], [0.6666666666666666, \"#ed7953\"], [0.7777777777777778, \"#fb9f3a\"], [0.8888888888888888, \"#fdca26\"], [1.0, \"#f0f921\"]], \"type\": \"contour\"}], \"contourcarpet\": [{\"colorbar\": {\"outlinewidth\": 0, \"ticks\": \"\"}, \"type\": \"contourcarpet\"}], \"heatmap\": [{\"colorbar\": {\"outlinewidth\": 0, \"ticks\": \"\"}, \"colorscale\": [[0.0, \"#0d0887\"], [0.1111111111111111, \"#46039f\"], [0.2222222222222222, \"#7201a8\"], [0.3333333333333333, \"#9c179e\"], [0.4444444444444444, \"#bd3786\"], [0.5555555555555556, \"#d8576b\"], [0.6666666666666666, \"#ed7953\"], [0.7777777777777778, \"#fb9f3a\"], [0.8888888888888888, \"#fdca26\"], [1.0, \"#f0f921\"]], \"type\": \"heatmap\"}], \"heatmapgl\": [{\"colorbar\": {\"outlinewidth\": 0, \"ticks\": \"\"}, \"colorscale\": [[0.0, \"#0d0887\"], [0.1111111111111111, \"#46039f\"], [0.2222222222222222, \"#7201a8\"], [0.3333333333333333, \"#9c179e\"], [0.4444444444444444, \"#bd3786\"], [0.5555555555555556, \"#d8576b\"], [0.6666666666666666, \"#ed7953\"], [0.7777777777777778, \"#fb9f3a\"], [0.8888888888888888, \"#fdca26\"], [1.0, \"#f0f921\"]], \"type\": \"heatmapgl\"}], \"histogram\": [{\"marker\": {\"colorbar\": {\"outlinewidth\": 0, \"ticks\": \"\"}}, \"type\": \"histogram\"}], \"histogram2d\": [{\"colorbar\": {\"outlinewidth\": 0, \"ticks\": \"\"}, \"colorscale\": [[0.0, \"#0d0887\"], [0.1111111111111111, \"#46039f\"], [0.2222222222222222, \"#7201a8\"], [0.3333333333333333, \"#9c179e\"], [0.4444444444444444, \"#bd3786\"], [0.5555555555555556, \"#d8576b\"], [0.6666666666666666, \"#ed7953\"], [0.7777777777777778, \"#fb9f3a\"], [0.8888888888888888, \"#fdca26\"], [1.0, \"#f0f921\"]], \"type\": \"histogram2d\"}], \"histogram2dcontour\": [{\"colorbar\": {\"outlinewidth\": 0, \"ticks\": \"\"}, \"colorscale\": [[0.0, \"#0d0887\"], [0.1111111111111111, \"#46039f\"], [0.2222222222222222, \"#7201a8\"], [0.3333333333333333, \"#9c179e\"], [0.4444444444444444, \"#bd3786\"], [0.5555555555555556, \"#d8576b\"], [0.6666666666666666, \"#ed7953\"], [0.7777777777777778, \"#fb9f3a\"], [0.8888888888888888, \"#fdca26\"], [1.0, \"#f0f921\"]], \"type\": \"histogram2dcontour\"}], \"mesh3d\": [{\"colorbar\": {\"outlinewidth\": 0, \"ticks\": \"\"}, \"type\": \"mesh3d\"}], \"parcoords\": [{\"line\": {\"colorbar\": {\"outlinewidth\": 0, \"ticks\": \"\"}}, \"type\": \"parcoords\"}], \"pie\": [{\"automargin\": true, \"type\": \"pie\"}], \"scatter\": [{\"marker\": {\"colorbar\": {\"outlinewidth\": 0, \"ticks\": \"\"}}, \"type\": \"scatter\"}], \"scatter3d\": [{\"line\": {\"colorbar\": {\"outlinewidth\": 0, \"ticks\": \"\"}}, \"marker\": {\"colorbar\": {\"outlinewidth\": 0, \"ticks\": \"\"}}, \"type\": \"scatter3d\"}], \"scattercarpet\": [{\"marker\": {\"colorbar\": {\"outlinewidth\": 0, \"ticks\": \"\"}}, \"type\": \"scattercarpet\"}], \"scattergeo\": [{\"marker\": {\"colorbar\": {\"outlinewidth\": 0, \"ticks\": \"\"}}, \"type\": \"scattergeo\"}], \"scattergl\": [{\"marker\": {\"colorbar\": {\"outlinewidth\": 0, \"ticks\": \"\"}}, \"type\": \"scattergl\"}], \"scattermapbox\": [{\"marker\": {\"colorbar\": {\"outlinewidth\": 0, \"ticks\": \"\"}}, \"type\": \"scattermapbox\"}], \"scatterpolar\": [{\"marker\": {\"colorbar\": {\"outlinewidth\": 0, \"ticks\": \"\"}}, \"type\": \"scatterpolar\"}], \"scatterpolargl\": [{\"marker\": {\"colorbar\": {\"outlinewidth\": 0, \"ticks\": \"\"}}, \"type\": \"scatterpolargl\"}], \"scatterternary\": [{\"marker\": {\"colorbar\": {\"outlinewidth\": 0, \"ticks\": \"\"}}, \"type\": \"scatterternary\"}], \"surface\": [{\"colorbar\": {\"outlinewidth\": 0, \"ticks\": \"\"}, \"colorscale\": [[0.0, \"#0d0887\"], [0.1111111111111111, \"#46039f\"], [0.2222222222222222, \"#7201a8\"], [0.3333333333333333, \"#9c179e\"], [0.4444444444444444, \"#bd3786\"], [0.5555555555555556, \"#d8576b\"], [0.6666666666666666, \"#ed7953\"], [0.7777777777777778, \"#fb9f3a\"], [0.8888888888888888, \"#fdca26\"], [1.0, \"#f0f921\"]], \"type\": \"surface\"}], \"table\": [{\"cells\": {\"fill\": {\"color\": \"#EBF0F8\"}, \"line\": {\"color\": \"white\"}}, \"header\": {\"fill\": {\"color\": \"#C8D4E3\"}, \"line\": {\"color\": \"white\"}}, \"type\": \"table\"}]}, \"layout\": {\"annotationdefaults\": {\"arrowcolor\": \"#2a3f5f\", \"arrowhead\": 0, \"arrowwidth\": 1}, \"coloraxis\": {\"colorbar\": {\"outlinewidth\": 0, \"ticks\": \"\"}}, \"colorscale\": {\"diverging\": [[0, \"#8e0152\"], [0.1, \"#c51b7d\"], [0.2, \"#de77ae\"], [0.3, \"#f1b6da\"], [0.4, \"#fde0ef\"], [0.5, \"#f7f7f7\"], [0.6, \"#e6f5d0\"], [0.7, \"#b8e186\"], [0.8, \"#7fbc41\"], [0.9, \"#4d9221\"], [1, \"#276419\"]], \"sequential\": [[0.0, \"#0d0887\"], [0.1111111111111111, \"#46039f\"], [0.2222222222222222, \"#7201a8\"], [0.3333333333333333, \"#9c179e\"], [0.4444444444444444, \"#bd3786\"], [0.5555555555555556, \"#d8576b\"], [0.6666666666666666, \"#ed7953\"], [0.7777777777777778, \"#fb9f3a\"], [0.8888888888888888, \"#fdca26\"], [1.0, \"#f0f921\"]], \"sequentialminus\": [[0.0, \"#0d0887\"], [0.1111111111111111, \"#46039f\"], [0.2222222222222222, \"#7201a8\"], [0.3333333333333333, \"#9c179e\"], [0.4444444444444444, \"#bd3786\"], [0.5555555555555556, \"#d8576b\"], [0.6666666666666666, \"#ed7953\"], [0.7777777777777778, \"#fb9f3a\"], [0.8888888888888888, \"#fdca26\"], [1.0, \"#f0f921\"]]}, \"colorway\": [\"#636efa\", \"#EF553B\", \"#00cc96\", \"#ab63fa\", \"#FFA15A\", \"#19d3f3\", \"#FF6692\", \"#B6E880\", \"#FF97FF\", \"#FECB52\"], \"font\": {\"color\": \"#2a3f5f\"}, \"geo\": {\"bgcolor\": \"white\", \"lakecolor\": \"white\", \"landcolor\": \"#E5ECF6\", \"showlakes\": true, \"showland\": true, \"subunitcolor\": \"white\"}, \"hoverlabel\": {\"align\": \"left\"}, \"hovermode\": \"closest\", \"mapbox\": {\"style\": \"light\"}, \"paper_bgcolor\": \"white\", \"plot_bgcolor\": \"#E5ECF6\", \"polar\": {\"angularaxis\": {\"gridcolor\": \"white\", \"linecolor\": \"white\", \"ticks\": \"\"}, \"bgcolor\": \"#E5ECF6\", \"radialaxis\": {\"gridcolor\": \"white\", \"linecolor\": \"white\", \"ticks\": \"\"}}, \"scene\": {\"xaxis\": {\"backgroundcolor\": \"#E5ECF6\", \"gridcolor\": \"white\", \"gridwidth\": 2, \"linecolor\": \"white\", \"showbackground\": true, \"ticks\": \"\", \"zerolinecolor\": \"white\"}, \"yaxis\": {\"backgroundcolor\": \"#E5ECF6\", \"gridcolor\": \"white\", \"gridwidth\": 2, \"linecolor\": \"white\", \"showbackground\": true, \"ticks\": \"\", \"zerolinecolor\": \"white\"}, \"zaxis\": {\"backgroundcolor\": \"#E5ECF6\", \"gridcolor\": \"white\", \"gridwidth\": 2, \"linecolor\": \"white\", \"showbackground\": true, \"ticks\": \"\", \"zerolinecolor\": \"white\"}}, \"shapedefaults\": {\"line\": {\"color\": \"#2a3f5f\"}}, \"ternary\": {\"aaxis\": {\"gridcolor\": \"white\", \"linecolor\": \"white\", \"ticks\": \"\"}, \"baxis\": {\"gridcolor\": \"white\", \"linecolor\": \"white\", \"ticks\": \"\"}, \"bgcolor\": \"#E5ECF6\", \"caxis\": {\"gridcolor\": \"white\", \"linecolor\": \"white\", \"ticks\": \"\"}}, \"title\": {\"x\": 0.05}, \"xaxis\": {\"automargin\": true, \"gridcolor\": \"white\", \"linecolor\": \"white\", \"ticks\": \"\", \"title\": {\"standoff\": 15}, \"zerolinecolor\": \"white\", \"zerolinewidth\": 2}, \"yaxis\": {\"automargin\": true, \"gridcolor\": \"white\", \"linecolor\": \"white\", \"ticks\": \"\", \"title\": {\"standoff\": 15}, \"zerolinecolor\": \"white\", \"zerolinewidth\": 2}}}, \"title\": {\"text\": \"Subreddits with most submissions having term 'covid' in the last 48h\"}, \"width\": 800, \"xaxis\": {\"anchor\": \"y\", \"domain\": [0.0, 1.0], \"title\": {\"text\": \"Subreddits\"}}, \"yaxis\": {\"anchor\": \"x\", \"domain\": [0.0, 1.0], \"title\": {\"text\": \"Number of submissions\"}}},\n",
       "                        {\"responsive\": true}\n",
       "                    ).then(function(){\n",
       "                            \n",
       "var gd = document.getElementById('590e0d4c-482a-434b-bc1b-1299dddb6542');\n",
       "var x = new MutationObserver(function (mutations, observer) {{\n",
       "        var display = window.getComputedStyle(gd).display;\n",
       "        if (!display || display === 'none') {{\n",
       "            console.log([gd, 'removed!']);\n",
       "            Plotly.purge(gd);\n",
       "            observer.disconnect();\n",
       "        }}\n",
       "}});\n",
       "\n",
       "// Listen for the removal of the full notebook cells\n",
       "var notebookContainer = gd.closest('#notebook-container');\n",
       "if (notebookContainer) {{\n",
       "    x.observe(notebookContainer, {childList: true});\n",
       "}}\n",
       "\n",
       "// Listen for the clearing of the current output cell\n",
       "var outputEl = gd.closest('.output');\n",
       "if (outputEl) {{\n",
       "    x.observe(outputEl, {childList: true});\n",
       "}}\n",
       "\n",
       "                        })\n",
       "                };\n",
       "                });\n",
       "            </script>\n",
       "        </div>"
      ]
     },
     "metadata": {},
     "output_type": "display_data"
    }
   ],
   "source": [
    "data = get_reddit_data(data_type=\"submission\", q=TERM_OF_INTEREST, after=TIMEFRAME, size=1000, aggs=\"subreddit\").get(\"data\")\n",
    "\n",
    "df = pandas.DataFrame(data)[\"subreddit\"].value_counts()[0:10]\n",
    "x = df.keys()\n",
    "y = df.values\n",
    "\n",
    "\n",
    "px.bar(df,\n",
    "       x=x,\n",
    "       y=y,\n",
    "       title=f\"Subreddits with most submissions having term '{TERM_OF_INTEREST}' in the last {TIMEFRAME}\",\n",
    "       labels={\"x\": \"Subreddits\", \"y\": \"Number of submissions\"},\n",
    "       color_discrete_sequence=[COMMENT_COLOR],\n",
    "       height=500,\n",
    "       width=800)"
   ]
  },
  {
   "cell_type": "markdown",
   "metadata": {},
   "source": [
    "## Most upvoted comments <a class=\"anchor\" id=\"3\"></a>"
   ]
  },
  {
   "cell_type": "code",
   "execution_count": 41,
   "metadata": {},
   "outputs": [
    {
     "name": "stdout",
     "output_type": "stream",
     "text": [
      "\n",
      "Top 10 most upvoted comments with 'covid' in the past 48h\n",
      "\n"
     ]
    },
    {
     "data": {
      "text/html": [
       "<style  type=\"text/css\" >\n",
       "</style><table id=\"T_40a80244_9706_11eb_aed1_a683e7ca341a\" ><thead>    <tr>        <th class=\"blank level0\" ></th>        <th class=\"col_heading level0 col0\" >author</th>        <th class=\"col_heading level0 col1\" >subreddit</th>        <th class=\"col_heading level0 col2\" >score</th>        <th class=\"col_heading level0 col3\" >body</th>        <th class=\"col_heading level0 col4\" >permalink</th>    </tr></thead><tbody>\n",
       "                <tr>\n",
       "                        <th id=\"T_40a80244_9706_11eb_aed1_a683e7ca341alevel0_row0\" class=\"row_heading level0 row0\" >0</th>\n",
       "                        <td id=\"T_40a80244_9706_11eb_aed1_a683e7ca341arow0_col0\" class=\"data row0 col0\" >Gold-Giant</td>\n",
       "                        <td id=\"T_40a80244_9706_11eb_aed1_a683e7ca341arow0_col1\" class=\"data row0 col1\" >PublicFreakout</td>\n",
       "                        <td id=\"T_40a80244_9706_11eb_aed1_a683e7ca341arow0_col2\" class=\"data row0 col2\" >131</td>\n",
       "                        <td id=\"T_40a80244_9706_11eb_aed1_a683e7ca341arow0_col3\" class=\"data row0 col3\" >Everybody knows Covid can’t get you while you’re eating cookies....</td>\n",
       "                        <td id=\"T_40a80244_9706_11eb_aed1_a683e7ca341arow0_col4\" class=\"data row0 col4\" ><a href=\"https://reddit.com/r/PublicFreakout/comments/mkqhhd/family_kicked_off_a_flight_because_their_two_year/gtij8zf/\">Link</a></td>\n",
       "            </tr>\n",
       "            <tr>\n",
       "                        <th id=\"T_40a80244_9706_11eb_aed1_a683e7ca341alevel0_row1\" class=\"row_heading level0 row1\" >1</th>\n",
       "                        <td id=\"T_40a80244_9706_11eb_aed1_a683e7ca341arow1_col0\" class=\"data row1 col0\" >GobtheCyberPunk</td>\n",
       "                        <td id=\"T_40a80244_9706_11eb_aed1_a683e7ca341arow1_col1\" class=\"data row1 col1\" >baseball</td>\n",
       "                        <td id=\"T_40a80244_9706_11eb_aed1_a683e7ca341arow1_col2\" class=\"data row1 col2\" >74</td>\n",
       "                        <td id=\"T_40a80244_9706_11eb_aed1_a683e7ca341arow1_col3\" class=\"data row1 col3\" >That 90% number is also misleading because thats 90% chance of being *infected at all* if exposed to...</td>\n",
       "                        <td id=\"T_40a80244_9706_11eb_aed1_a683e7ca341arow1_col4\" class=\"data row1 col4\" ><a href=\"https://reddit.com/r/baseball/comments/mkrmx3/janes_max_scherzer_on_the_vaccine_for_me_i_tend/gthwyfw/\">Link</a></td>\n",
       "            </tr>\n",
       "            <tr>\n",
       "                        <th id=\"T_40a80244_9706_11eb_aed1_a683e7ca341alevel0_row2\" class=\"row_heading level0 row2\" >2</th>\n",
       "                        <td id=\"T_40a80244_9706_11eb_aed1_a683e7ca341arow2_col0\" class=\"data row2 col0\" >MobiuS_360</td>\n",
       "                        <td id=\"T_40a80244_9706_11eb_aed1_a683e7ca341arow2_col1\" class=\"data row2 col1\" >TheRightCantMeme</td>\n",
       "                        <td id=\"T_40a80244_9706_11eb_aed1_a683e7ca341arow2_col2\" class=\"data row2 col2\" >55</td>\n",
       "                        <td id=\"T_40a80244_9706_11eb_aed1_a683e7ca341arow2_col3\" class=\"data row2 col3\" >I already see it, 40 years from now they're going to use another famous person as propaganda who die...</td>\n",
       "                        <td id=\"T_40a80244_9706_11eb_aed1_a683e7ca341arow2_col4\" class=\"data row2 col4\" ><a href=\"https://reddit.com/r/TheRightCantMeme/comments/ml9ckr/found_this_on_conservative_twitter_this_morning/gtl8fo4/\">Link</a></td>\n",
       "            </tr>\n",
       "            <tr>\n",
       "                        <th id=\"T_40a80244_9706_11eb_aed1_a683e7ca341alevel0_row3\" class=\"row_heading level0 row3\" >3</th>\n",
       "                        <td id=\"T_40a80244_9706_11eb_aed1_a683e7ca341arow3_col0\" class=\"data row3 col0\" >Sp_Gamer_Live</td>\n",
       "                        <td id=\"T_40a80244_9706_11eb_aed1_a683e7ca341arow3_col1\" class=\"data row3 col1\" >baseball</td>\n",
       "                        <td id=\"T_40a80244_9706_11eb_aed1_a683e7ca341arow3_col2\" class=\"data row3 col2\" >55</td>\n",
       "                        <td id=\"T_40a80244_9706_11eb_aed1_a683e7ca341arow3_col3\" class=\"data row3 col3\" >Covid putting up Wilt numbers...</td>\n",
       "                        <td id=\"T_40a80244_9706_11eb_aed1_a683e7ca341arow3_col4\" class=\"data row3 col4\" ><a href=\"https://reddit.com/r/baseball/comments/mkv0mb/masks_required_at_globe_life_field/gthxjt9/\">Link</a></td>\n",
       "            </tr>\n",
       "            <tr>\n",
       "                        <th id=\"T_40a80244_9706_11eb_aed1_a683e7ca341alevel0_row4\" class=\"row_heading level0 row4\" >4</th>\n",
       "                        <td id=\"T_40a80244_9706_11eb_aed1_a683e7ca341arow4_col0\" class=\"data row4 col0\" >centaurius_</td>\n",
       "                        <td id=\"T_40a80244_9706_11eb_aed1_a683e7ca341arow4_col1\" class=\"data row4 col1\" >NYYankees</td>\n",
       "                        <td id=\"T_40a80244_9706_11eb_aed1_a683e7ca341arow4_col2\" class=\"data row4 col2\" >54</td>\n",
       "                        <td id=\"T_40a80244_9706_11eb_aed1_a683e7ca341arow4_col3\" class=\"data row4 col3\" >#GUMBY: GOOD\n",
       "\n",
       "#AARON: JUDGE AND JURY\n",
       "\n",
       "#GIANCARLO: SLAMTONIAN\n",
       "\n",
       "#LeMACHINE: ONLINE\n",
       "\n",
       "#LUIS: suCESSAful\n",
       "...</td>\n",
       "                        <td id=\"T_40a80244_9706_11eb_aed1_a683e7ca341arow4_col4\" class=\"data row4 col4\" ><a href=\"https://reddit.com/r/NYYankees/comments/ml0g2e/its_what_you_want_the_yankees_defeated_the/gtitdpr/\">Link</a></td>\n",
       "            </tr>\n",
       "            <tr>\n",
       "                        <th id=\"T_40a80244_9706_11eb_aed1_a683e7ca341alevel0_row5\" class=\"row_heading level0 row5\" >5</th>\n",
       "                        <td id=\"T_40a80244_9706_11eb_aed1_a683e7ca341arow5_col0\" class=\"data row5 col0\" >Ugadead1991</td>\n",
       "                        <td id=\"T_40a80244_9706_11eb_aed1_a683e7ca341arow5_col1\" class=\"data row5 col1\" >baseball</td>\n",
       "                        <td id=\"T_40a80244_9706_11eb_aed1_a683e7ca341arow5_col2\" class=\"data row5 col2\" >53</td>\n",
       "                        <td id=\"T_40a80244_9706_11eb_aed1_a683e7ca341arow5_col3\" class=\"data row5 col3\" >Covid knows not to disrespect the anthem! 🦅 ♥️ 🤍 💙 🎆...</td>\n",
       "                        <td id=\"T_40a80244_9706_11eb_aed1_a683e7ca341arow5_col4\" class=\"data row5 col4\" ><a href=\"https://reddit.com/r/baseball/comments/mkv0mb/masks_required_at_globe_life_field/gthys0e/\">Link</a></td>\n",
       "            </tr>\n",
       "            <tr>\n",
       "                        <th id=\"T_40a80244_9706_11eb_aed1_a683e7ca341alevel0_row6\" class=\"row_heading level0 row6\" >6</th>\n",
       "                        <td id=\"T_40a80244_9706_11eb_aed1_a683e7ca341arow6_col0\" class=\"data row6 col0\" >JamesWithaG</td>\n",
       "                        <td id=\"T_40a80244_9706_11eb_aed1_a683e7ca341arow6_col1\" class=\"data row6 col1\" >baseball</td>\n",
       "                        <td id=\"T_40a80244_9706_11eb_aed1_a683e7ca341arow6_col2\" class=\"data row6 col2\" >52</td>\n",
       "                        <td id=\"T_40a80244_9706_11eb_aed1_a683e7ca341arow6_col3\" class=\"data row6 col3\" >In a strange way I felt like the whole thing went perfectly. None of it was intentional, Castellanos...</td>\n",
       "                        <td id=\"T_40a80244_9706_11eb_aed1_a683e7ca341arow6_col4\" class=\"data row6 col4\" ><a href=\"https://reddit.com/r/baseball/comments/mkpkx2/heyman_2_game_suspension_for_castellanos_whos/gth55sb/\">Link</a></td>\n",
       "            </tr>\n",
       "            <tr>\n",
       "                        <th id=\"T_40a80244_9706_11eb_aed1_a683e7ca341alevel0_row7\" class=\"row_heading level0 row7\" >7</th>\n",
       "                        <td id=\"T_40a80244_9706_11eb_aed1_a683e7ca341arow7_col0\" class=\"data row7 col0\" >caltheon</td>\n",
       "                        <td id=\"T_40a80244_9706_11eb_aed1_a683e7ca341arow7_col1\" class=\"data row7 col1\" >interestingasfuck</td>\n",
       "                        <td id=\"T_40a80244_9706_11eb_aed1_a683e7ca341arow7_col2\" class=\"data row7 col2\" >49</td>\n",
       "                        <td id=\"T_40a80244_9706_11eb_aed1_a683e7ca341arow7_col3\" class=\"data row7 col3\" >You’d be surprised. Since Covid I started tracking my distances more closely and found I walk roughl...</td>\n",
       "                        <td id=\"T_40a80244_9706_11eb_aed1_a683e7ca341arow7_col4\" class=\"data row7 col4\" ><a href=\"https://reddit.com/r/interestingasfuck/comments/mksht3/in_1978_an_indian_man_travelled_from_india_to/gthyqil/\">Link</a></td>\n",
       "            </tr>\n",
       "            <tr>\n",
       "                        <th id=\"T_40a80244_9706_11eb_aed1_a683e7ca341alevel0_row8\" class=\"row_heading level0 row8\" >8</th>\n",
       "                        <td id=\"T_40a80244_9706_11eb_aed1_a683e7ca341arow8_col0\" class=\"data row8 col0\" >austnoli</td>\n",
       "                        <td id=\"T_40a80244_9706_11eb_aed1_a683e7ca341arow8_col1\" class=\"data row8 col1\" >Torontobluejays</td>\n",
       "                        <td id=\"T_40a80244_9706_11eb_aed1_a683e7ca341arow8_col2\" class=\"data row8 col2\" >41</td>\n",
       "                        <td id=\"T_40a80244_9706_11eb_aed1_a683e7ca341arow8_col3\" class=\"data row8 col3\" >Imagine risking covid just to watch your team lose...</td>\n",
       "                        <td id=\"T_40a80244_9706_11eb_aed1_a683e7ca341arow8_col4\" class=\"data row8 col4\" ><a href=\"https://reddit.com/r/Torontobluejays/comments/mkxl6i/postgame_thread_april_5_toronto_blue_jays_texas/gtic5z7/\">Link</a></td>\n",
       "            </tr>\n",
       "            <tr>\n",
       "                        <th id=\"T_40a80244_9706_11eb_aed1_a683e7ca341alevel0_row9\" class=\"row_heading level0 row9\" >9</th>\n",
       "                        <td id=\"T_40a80244_9706_11eb_aed1_a683e7ca341arow9_col0\" class=\"data row9 col0\" >andersmike</td>\n",
       "                        <td id=\"T_40a80244_9706_11eb_aed1_a683e7ca341arow9_col1\" class=\"data row9 col1\" >baseball</td>\n",
       "                        <td id=\"T_40a80244_9706_11eb_aed1_a683e7ca341arow9_col2\" class=\"data row9 col2\" >40</td>\n",
       "                        <td id=\"T_40a80244_9706_11eb_aed1_a683e7ca341arow9_col3\" class=\"data row9 col3\" >Everybody could have also stayed home. I doubt anybody that goes to a baseball game to drink beer an...</td>\n",
       "                        <td id=\"T_40a80244_9706_11eb_aed1_a683e7ca341arow9_col4\" class=\"data row9 col4\" ><a href=\"https://reddit.com/r/baseball/comments/mkv0mb/masks_required_at_globe_life_field/gthxojt/\">Link</a></td>\n",
       "            </tr>\n",
       "    </tbody></table>"
      ],
      "text/plain": [
       "<pandas.io.formats.style.Styler at 0x7f835fe73590>"
      ]
     },
     "execution_count": 41,
     "metadata": {},
     "output_type": "execute_result"
    }
   ],
   "source": [
    "data = get_reddit_data(data_type=\"comment\", q=TERM_OF_INTEREST, after=TIMEFRAME, size=10, sort_type=\"score\", sort=\"desc\").get(\"data\")\n",
    "# to see what columns interest you, simply list(df)\n",
    "df = pandas.DataFrame(data)[[\"author\", \"subreddit\", \"score\", \"body\", \"permalink\"]]\n",
    "\n",
    "# we only keep the first X characters of the body \n",
    "df.body = df.body.str[0:100] + \"...\"\n",
    "\n",
    "# we append the string to all the permalink entries\n",
    "df.permalink = \"https://reddit.com\" + df.permalink.astype(str)\n",
    "\n",
    "# print \n",
    "print(f\"\\nTop 10 most upvoted comments with '{TERM_OF_INTEREST}' in the past {TIMEFRAME}\\n\")\n",
    "\n",
    "# style the last column to be clickable and print\n",
    "df.style.format({'permalink': make_clickable})"
   ]
  },
  {
   "cell_type": "markdown",
   "metadata": {},
   "source": [
    "## Most commented submissions <a class=\"anchor\" id=\"4\"></a>"
   ]
  },
  {
   "cell_type": "code",
   "execution_count": 42,
   "metadata": {},
   "outputs": [
    {
     "name": "stdout",
     "output_type": "stream",
     "text": [
      "\n",
      "Top 10 most commented submissions with 'covid' in the past 48h\n",
      "\n"
     ]
    },
    {
     "data": {
      "text/html": [
       "<style  type=\"text/css\" >\n",
       "</style><table id=\"T_45e0d420_9706_11eb_aed1_a683e7ca341a\" ><thead>    <tr>        <th class=\"blank level0\" ></th>        <th class=\"col_heading level0 col0\" >author</th>        <th class=\"col_heading level0 col1\" >subreddit</th>        <th class=\"col_heading level0 col2\" >num_comments</th>        <th class=\"col_heading level0 col3\" >title</th>        <th class=\"col_heading level0 col4\" >permalink</th>    </tr></thead><tbody>\n",
       "                <tr>\n",
       "                        <th id=\"T_45e0d420_9706_11eb_aed1_a683e7ca341alevel0_row0\" class=\"row_heading level0 row0\" >0</th>\n",
       "                        <td id=\"T_45e0d420_9706_11eb_aed1_a683e7ca341arow0_col0\" class=\"data row0 col0\" >ukpolbot</td>\n",
       "                        <td id=\"T_45e0d420_9706_11eb_aed1_a683e7ca341arow0_col1\" class=\"data row0 col1\" >ukpolitics</td>\n",
       "                        <td id=\"T_45e0d420_9706_11eb_aed1_a683e7ca341arow0_col2\" class=\"data row0 col2\" >1783</td>\n",
       "                        <td id=\"T_45e0d420_9706_11eb_aed1_a683e7ca341arow0_col3\" class=\"data row0 col3\" >Daily Megathread - 05/04/2021...</td>\n",
       "                        <td id=\"T_45e0d420_9706_11eb_aed1_a683e7ca341arow0_col4\" class=\"data row0 col4\" ><a href=\"https://reddit.com/r/ukpolitics/comments/mkd3re/daily_megathread_05042021/\">Link</a></td>\n",
       "            </tr>\n",
       "            <tr>\n",
       "                        <th id=\"T_45e0d420_9706_11eb_aed1_a683e7ca341alevel0_row1\" class=\"row_heading level0 row1\" >1</th>\n",
       "                        <td id=\"T_45e0d420_9706_11eb_aed1_a683e7ca341arow1_col0\" class=\"data row1 col0\" >Lightneng</td>\n",
       "                        <td id=\"T_45e0d420_9706_11eb_aed1_a683e7ca341arow1_col1\" class=\"data row1 col1\" >PublicFreakout</td>\n",
       "                        <td id=\"T_45e0d420_9706_11eb_aed1_a683e7ca341arow1_col2\" class=\"data row1 col2\" >1774</td>\n",
       "                        <td id=\"T_45e0d420_9706_11eb_aed1_a683e7ca341arow1_col3\" class=\"data row1 col3\" >Packed restaurant in Vancouver, BC chant \"Get out!\" at COVID-19 health inspectors...</td>\n",
       "                        <td id=\"T_45e0d420_9706_11eb_aed1_a683e7ca341arow1_col4\" class=\"data row1 col4\" ><a href=\"https://reddit.com/r/PublicFreakout/comments/mkbbie/packed_restaurant_in_vancouver_bc_chant_get_out/\">Link</a></td>\n",
       "            </tr>\n",
       "            <tr>\n",
       "                        <th id=\"T_45e0d420_9706_11eb_aed1_a683e7ca341alevel0_row2\" class=\"row_heading level0 row2\" >2</th>\n",
       "                        <td id=\"T_45e0d420_9706_11eb_aed1_a683e7ca341arow2_col0\" class=\"data row2 col0\" >ukpolbot</td>\n",
       "                        <td id=\"T_45e0d420_9706_11eb_aed1_a683e7ca341arow2_col1\" class=\"data row2 col1\" >ukpolitics</td>\n",
       "                        <td id=\"T_45e0d420_9706_11eb_aed1_a683e7ca341arow2_col2\" class=\"data row2 col2\" >1418</td>\n",
       "                        <td id=\"T_45e0d420_9706_11eb_aed1_a683e7ca341arow2_col3\" class=\"data row2 col3\" >Daily Megathread - 06/04/2021...</td>\n",
       "                        <td id=\"T_45e0d420_9706_11eb_aed1_a683e7ca341arow2_col4\" class=\"data row2 col4\" ><a href=\"https://reddit.com/r/ukpolitics/comments/ml41du/daily_megathread_06042021/\">Link</a></td>\n",
       "            </tr>\n",
       "            <tr>\n",
       "                        <th id=\"T_45e0d420_9706_11eb_aed1_a683e7ca341alevel0_row3\" class=\"row_heading level0 row3\" >3</th>\n",
       "                        <td id=\"T_45e0d420_9706_11eb_aed1_a683e7ca341arow3_col0\" class=\"data row3 col0\" >nogoyolo</td>\n",
       "                        <td id=\"T_45e0d420_9706_11eb_aed1_a683e7ca341arow3_col1\" class=\"data row3 col1\" >AmItheAsshole</td>\n",
       "                        <td id=\"T_45e0d420_9706_11eb_aed1_a683e7ca341arow3_col2\" class=\"data row3 col2\" >1417</td>\n",
       "                        <td id=\"T_45e0d420_9706_11eb_aed1_a683e7ca341arow3_col3\" class=\"data row3 col3\" >AITA for following through and not going to Easter because I'm tired of EVERY family thing being about the kids?...</td>\n",
       "                        <td id=\"T_45e0d420_9706_11eb_aed1_a683e7ca341arow3_col4\" class=\"data row3 col4\" ><a href=\"https://reddit.com/r/AmItheAsshole/comments/mkyzpw/aita_for_following_through_and_not_going_to/\">Link</a></td>\n",
       "            </tr>\n",
       "            <tr>\n",
       "                        <th id=\"T_45e0d420_9706_11eb_aed1_a683e7ca341alevel0_row4\" class=\"row_heading level0 row4\" >4</th>\n",
       "                        <td id=\"T_45e0d420_9706_11eb_aed1_a683e7ca341arow4_col0\" class=\"data row4 col0\" >Vulphere</td>\n",
       "                        <td id=\"T_45e0d420_9706_11eb_aed1_a683e7ca341arow4_col1\" class=\"data row4 col1\" >indonesia</td>\n",
       "                        <td id=\"T_45e0d420_9706_11eb_aed1_a683e7ca341arow4_col2\" class=\"data row4 col2\" >1236</td>\n",
       "                        <td id=\"T_45e0d420_9706_11eb_aed1_a683e7ca341arow4_col3\" class=\"data row4 col3\" >06 April 2021- Daily Chat Thread...</td>\n",
       "                        <td id=\"T_45e0d420_9706_11eb_aed1_a683e7ca341arow4_col4\" class=\"data row4 col4\" ><a href=\"https://reddit.com/r/indonesia/comments/mkpi1o/06_april_2021_daily_chat_thread/\">Link</a></td>\n",
       "            </tr>\n",
       "            <tr>\n",
       "                        <th id=\"T_45e0d420_9706_11eb_aed1_a683e7ca341alevel0_row5\" class=\"row_heading level0 row5\" >5</th>\n",
       "                        <td id=\"T_45e0d420_9706_11eb_aed1_a683e7ca341arow5_col0\" class=\"data row5 col0\" >TX908</td>\n",
       "                        <td id=\"T_45e0d420_9706_11eb_aed1_a683e7ca341arow5_col1\" class=\"data row5 col1\" >science</td>\n",
       "                        <td id=\"T_45e0d420_9706_11eb_aed1_a683e7ca341arow5_col2\" class=\"data row5 col2\" >1118</td>\n",
       "                        <td id=\"T_45e0d420_9706_11eb_aed1_a683e7ca341arow5_col3\" class=\"data row5 col3\" >New study suggests that masks and a good ventilation system are more important than social distancing for reducing the airborne spread of COVID-19 in classrooms....</td>\n",
       "                        <td id=\"T_45e0d420_9706_11eb_aed1_a683e7ca341arow5_col4\" class=\"data row5 col4\" ><a href=\"https://reddit.com/r/science/comments/mkpy3m/new_study_suggests_that_masks_and_a_good/\">Link</a></td>\n",
       "            </tr>\n",
       "            <tr>\n",
       "                        <th id=\"T_45e0d420_9706_11eb_aed1_a683e7ca341alevel0_row6\" class=\"row_heading level0 row6\" >6</th>\n",
       "                        <td id=\"T_45e0d420_9706_11eb_aed1_a683e7ca341arow6_col0\" class=\"data row6 col0\" >throwaway5272</td>\n",
       "                        <td id=\"T_45e0d420_9706_11eb_aed1_a683e7ca341arow6_col1\" class=\"data row6 col1\" >politics</td>\n",
       "                        <td id=\"T_45e0d420_9706_11eb_aed1_a683e7ca341arow6_col2\" class=\"data row6 col2\" >1025</td>\n",
       "                        <td id=\"T_45e0d420_9706_11eb_aed1_a683e7ca341arow6_col3\" class=\"data row6 col3\" >Biden set to announce he's moving deadline for all US adults to be eligible for Covid vaccine to April 19...</td>\n",
       "                        <td id=\"T_45e0d420_9706_11eb_aed1_a683e7ca341arow6_col4\" class=\"data row6 col4\" ><a href=\"https://reddit.com/r/politics/comments/ml9c2c/biden_set_to_announce_hes_moving_deadline_for_all/\">Link</a></td>\n",
       "            </tr>\n",
       "            <tr>\n",
       "                        <th id=\"T_45e0d420_9706_11eb_aed1_a683e7ca341alevel0_row7\" class=\"row_heading level0 row7\" >7</th>\n",
       "                        <td id=\"T_45e0d420_9706_11eb_aed1_a683e7ca341arow7_col0\" class=\"data row7 col0\" >AutoModerator</td>\n",
       "                        <td id=\"T_45e0d420_9706_11eb_aed1_a683e7ca341arow7_col1\" class=\"data row7 col1\" >Coronavirus</td>\n",
       "                        <td id=\"T_45e0d420_9706_11eb_aed1_a683e7ca341arow7_col2\" class=\"data row7 col2\" >1014</td>\n",
       "                        <td id=\"T_45e0d420_9706_11eb_aed1_a683e7ca341arow7_col3\" class=\"data row7 col3\" >Daily Discussion Thread | April 05, 2021...</td>\n",
       "                        <td id=\"T_45e0d420_9706_11eb_aed1_a683e7ca341arow7_col4\" class=\"data row7 col4\" ><a href=\"https://reddit.com/r/Coronavirus/comments/mkepvp/daily_discussion_thread_april_05_2021/\">Link</a></td>\n",
       "            </tr>\n",
       "            <tr>\n",
       "                        <th id=\"T_45e0d420_9706_11eb_aed1_a683e7ca341alevel0_row8\" class=\"row_heading level0 row8\" >8</th>\n",
       "                        <td id=\"T_45e0d420_9706_11eb_aed1_a683e7ca341arow8_col0\" class=\"data row8 col0\" >TheyCallHerBlossom</td>\n",
       "                        <td id=\"T_45e0d420_9706_11eb_aed1_a683e7ca341arow8_col1\" class=\"data row8 col1\" >soccer</td>\n",
       "                        <td id=\"T_45e0d420_9706_11eb_aed1_a683e7ca341arow8_col2\" class=\"data row8 col2\" >665</td>\n",
       "                        <td id=\"T_45e0d420_9706_11eb_aed1_a683e7ca341arow8_col3\" class=\"data row8 col3\" >Comunicado Oficial: Raphaël Varane tests positive for Covid-19...</td>\n",
       "                        <td id=\"T_45e0d420_9706_11eb_aed1_a683e7ca341arow8_col4\" class=\"data row8 col4\" ><a href=\"https://reddit.com/r/soccer/comments/ml9e63/comunicado_oficial_raphaël_varane_tests_positive/\">Link</a></td>\n",
       "            </tr>\n",
       "            <tr>\n",
       "                        <th id=\"T_45e0d420_9706_11eb_aed1_a683e7ca341alevel0_row9\" class=\"row_heading level0 row9\" >9</th>\n",
       "                        <td id=\"T_45e0d420_9706_11eb_aed1_a683e7ca341arow9_col0\" class=\"data row9 col0\" >Lyrtil</td>\n",
       "                        <td id=\"T_45e0d420_9706_11eb_aed1_a683e7ca341arow9_col1\" class=\"data row9 col1\" >italy</td>\n",
       "                        <td id=\"T_45e0d420_9706_11eb_aed1_a683e7ca341arow9_col2\" class=\"data row9 col2\" >656</td>\n",
       "                        <td id=\"T_45e0d420_9706_11eb_aed1_a683e7ca341arow9_col3\" class=\"data row9 col3\" >Megathread Coronavirus * 05/04/21 - 11/04/21...</td>\n",
       "                        <td id=\"T_45e0d420_9706_11eb_aed1_a683e7ca341arow9_col4\" class=\"data row9 col4\" ><a href=\"https://reddit.com/r/italy/comments/mk8f1z/megathread_coronavirus_050421_110421/\">Link</a></td>\n",
       "            </tr>\n",
       "    </tbody></table>"
      ],
      "text/plain": [
       "<pandas.io.formats.style.Styler at 0x7f835f746290>"
      ]
     },
     "execution_count": 42,
     "metadata": {},
     "output_type": "execute_result"
    }
   ],
   "source": [
    "data = get_reddit_data(data_type=\"submission\", q=TERM_OF_INTEREST, after=TIMEFRAME, size=10, sort_type=\"num_comments\", sort=\"desc\").get(\"data\")\n",
    "\n",
    "\n",
    "# to see what columns interest you, simply list(df)\n",
    "df = pandas.DataFrame.from_records(data)[[\"author\", \"subreddit\", \"num_comments\", \"title\", \"permalink\"]]\n",
    "\n",
    "# we only keep the first X characters of the body \n",
    "df.title = df.title[0:100] + \"...\"\n",
    "\n",
    "# we append the string to all the permalink entries\n",
    "df.permalink = \"https://reddit.com\" + df.permalink.astype(str)\n",
    "\n",
    "# print \n",
    "print(f\"\\nTop 10 most commented submissions with '{TERM_OF_INTEREST}' in the past {TIMEFRAME}\\n\")\n",
    "\n",
    "# style the last column to be clickable and print\n",
    "df.style.format({'permalink': make_clickable})\n"
   ]
  },
  {
   "cell_type": "markdown",
   "metadata": {},
   "source": [
    "## /r/covid comment sentiment timeline <a class=\"anchor\" id=\"5\"></a>"
   ]
  },
  {
   "cell_type": "code",
   "execution_count": 46,
   "metadata": {},
   "outputs": [
    {
     "data": {
      "application/vnd.plotly.v1+json": {
       "config": {
        "plotlyServerURL": "https://plot.ly"
       },
       "data": [
        {
         "customdata": [
          [
           "PM_ME_YOUR_KANKLES",
           "/r/COVID/comments/mkvr0q/no_to_covid_passports_please_sign/gti7hh3/",
           "Can you link me to one that supports covid passpor"
          ],
          [
           "EntireCalligrapher26",
           "/r/COVID/comments/mkx3on/outdoor_transmissions_accounts_for_01_of_the/gtie93r/",
           "Tell this to people walking alone with a mask on."
          ],
          [
           "agkemp97",
           "/r/COVID/comments/mkr0yh/vaccine_effects_on_ferritin_levels/gthtthi/",
           "I’ve heard of some vaccines in general causing idi"
          ],
          [
           "Your-Mask-Is-Tinfoil",
           "/r/COVID/comments/mkttca/if_the_cdc_determines_that_vaccinated_people_have/gthsqds/",
           "No."
          ],
          [
           "SXFlyer",
           "/r/COVID/comments/mkxznl/why_isnt_there_more_walk_in_covid_testing/gtigmyu/",
           "That sucks. But isn’t New York state now allowing "
          ],
          [
           "dibernap",
           "/r/COVID/comments/mkx3on/outdoor_transmissions_accounts_for_01_of_the/gtix590/",
           "This is news?"
          ],
          [
           "iDioticArmyBianca",
           "/r/COVID/comments/mkenlf/so_i_made_a_poster/gtkx1ho/",
           "I LIKE UR FUNNY WORDS MAGIC MAN AGAHHAHAHAHAHA"
          ],
          [
           "iDioticArmyBianca",
           "/r/COVID/comments/mkenlf/so_i_made_a_poster/gtkxd7u/",
           "nah mate thats u :)"
          ],
          [
           "iDioticArmyBianca",
           "/r/COVID/comments/mkenlf/so_i_made_a_poster/gtkzle9/",
           "GO OFF👏👏👏👏"
          ],
          [
           "CoconutAlert9046",
           "/r/COVID/comments/mlf752/i_have_nothing_to_do/gtl0ylb/",
           "Usa have cured cancer but arent releasing the anti"
          ],
          [
           "jmoney3001",
           "/r/COVID/comments/ml9a8s/april_2020/gtkw30c/",
           "Fuck this guy. You are surviving a terrible and do"
          ],
          [
           "nazarlawshawdee",
           "/r/COVID/comments/ml9a8s/april_2020/gtkxd9l/",
           "This sub is full of covid-denying antivax q-anon c"
          ],
          [
           "VictoriaMichelle__",
           "/r/COVID/comments/mjzzqr/can_covid_survive_in_the_sink/gtdlwld/",
           "I kissed my bf the first day he had symptoms and I"
          ],
          [
           "AddressNo7612",
           "/r/COVID/comments/mjt85x/covid_is_still_alive/gtdp2c9/",
           "I pray for your speedy recovery. In the beginning "
          ],
          [
           "Linzoshbuker",
           "/r/COVID/comments/me0x0m/menstrual_cycle_irregular_after_covid19/gte8b2x/",
           "Have you gotten any answers from this?"
          ],
          [
           "tyleryoung222",
           "/r/COVID/comments/mjzzqr/can_covid_survive_in_the_sink/gte4weh/",
           "Not wasting my time being a douche on Reddit"
          ],
          [
           "Thud2",
           "/r/COVID/comments/mjt85x/covid_is_still_alive/gte9vcz/",
           "Is this your argument?"
          ],
          [
           "AddressNo7612",
           "/r/COVID/comments/mk3jut/yall_so_weird/gtemixo/",
           "I know right! These people have nothing else bette"
          ],
          [
           "AddressNo7612",
           "/r/COVID/comments/mk3jut/yall_so_weird/gtem110/",
           "That's good enough for me. Now they can talk to th"
          ],
          [
           "Thud2",
           "/r/COVID/comments/mk3jut/yall_so_weird/gteuwdn/",
           "Most opinions don't cause death. The ones that do "
          ],
          [
           "Imnewhere948",
           "/r/COVID/comments/mkbsut/just_learned_this_afternoon_uk_strain_of_covid19/gtf1qbg/",
           "Which covid vaccine are you referring to?"
          ],
          [
           "MKTAS",
           "/r/COVID/comments/mjt85x/covid_is_still_alive/gtf7qnr/",
           "Nah, they will be barking at their new home, 4x4 c"
          ],
          [
           "PowderFree723",
           "/r/COVID/comments/mk7n3r/can_you_still_give_off_covid_to_others_if_you/gtfbmw6/",
           "Do you understand the definition of vaccines??"
          ],
          [
           "Thud2",
           "/r/COVID/comments/mk7n3r/can_you_still_give_off_covid_to_others_if_you/gtfd7x9/",
           "Helloooo?"
          ],
          [
           "Thud2",
           "/r/COVID/comments/mk7n3r/can_you_still_give_off_covid_to_others_if_you/gtfekf1/",
           "Hello, Who's this?"
          ],
          [
           "Thud2",
           "/r/COVID/comments/mk7n3r/can_you_still_give_off_covid_to_others_if_you/gtfg2kn/",
           "None do what?"
          ],
          [
           "PowderFree723",
           "/r/COVID/comments/mk7n3r/can_you_still_give_off_covid_to_others_if_you/gtffxut/",
           "Hmm 🤔 none do according to the research available."
          ],
          [
           "PowderFree723",
           "/r/COVID/comments/mk7n3r/can_you_still_give_off_covid_to_others_if_you/gtffv04/",
           "He’s a she and no I don’t make those type of noise"
          ],
          [
           "Thud2",
           "/r/COVID/comments/mk7n3r/can_you_still_give_off_covid_to_others_if_you/gtfg5gx/",
           "If you don't identify yourself I'm going to hang u"
          ],
          [
           "iDioticArmyBianca",
           "/r/COVID/comments/mkenlf/so_i_made_a_poster/gtfllkw/",
           "thanks man :))"
          ],
          [
           "faizanalikhan9",
           "/r/COVID/comments/mk4fgk/no_appetite_at_all_help/gtfn6z3/",
           "Hi, i had the same issue untul i was taken to the "
          ],
          [
           "shugzybossman",
           "/r/COVID/comments/mjxkj2/covid_sucks_rant/gtg2gd9/",
           "I have no idea what you're talking about. Get a gi"
          ],
          [
           "roberj11",
           "/r/COVID/comments/mjt85x/covid_is_still_alive/gtdikm2/",
           "I wouldn’t go straight to medication. Maybe some m"
          ],
          [
           "BreakingGaw",
           "/r/COVID/comments/mkenlf/so_i_made_a_poster/gtg6en8/",
           "Yea boi"
          ],
          [
           "No-Independence-6842",
           "/r/COVID/comments/mkidkd/anyone_w_diabetes_who_has_been_vaccinated/gtgbu0o/",
           "The vaccine has no effect on diabetes."
          ],
          [
           "DrgSlinger475",
           "/r/COVID/comments/mkfieu/can_i_refuse_covid_vaccine_as_medical_worker_usa/gtgav49/",
           "You can refuse, but that refusal may come with con"
          ],
          [
           "GrouchoBark",
           "/r/COVID/comments/mkfieu/can_i_refuse_covid_vaccine_as_medical_worker_usa/gtgrdm5/",
           "You should change your profession if you don’t bel"
          ],
          [
           "COVID_VacciNATION",
           "/r/COVID/comments/mkmg7j/covid_vaccination_weekly_dose_apr_5_2021_covid/gtgmklb/",
           "Much appreciated.  Thank you."
          ],
          [
           "[deleted]",
           "/r/COVID/comments/mibnss/asu_watching_new_covid19_arizona_variant_with_a/gth8jxp/",
           "[deleted]"
          ],
          [
           "EntireCalligrapher26",
           "/r/COVID/comments/mibnss/asu_watching_new_covid19_arizona_variant_with_a/gth8ae3/",
           "500K people have not died of this virus.  That's a"
          ],
          [
           "ObjectiveToe8023",
           "/r/COVID/comments/mkkbnv/crowd_chants_get_out_at_health_inspectors_issuing/gtgvy89/",
           "I fully support this restaurant. Enough is enough."
          ],
          [
           "dqmachine",
           "/r/COVID/comments/mibnss/asu_watching_new_covid19_arizona_variant_with_a/gtgx8b9/",
           "Funny. I just saw it.\n\nThat is exactly why i dont "
          ],
          [
           "EntireCalligrapher26",
           "/r/COVID/comments/mibnss/asu_watching_new_covid19_arizona_variant_with_a/gthce8s/",
           "Nope.  Not really.  Sorry, but I'm right and you'r"
          ],
          [
           "desertrat75",
           "/r/COVID/comments/mibnss/asu_watching_new_covid19_arizona_variant_with_a/gthcoop/",
           "That’s right folks. The entire world stopped turni"
          ],
          [
           "skoomaloy",
           "/r/COVID/comments/mkie11/prevaccine_cold_sore/gtgxw9e/",
           "Thank you"
          ],
          [
           "jakekorz",
           "/r/COVID/comments/mibnss/asu_watching_new_covid19_arizona_variant_with_a/gthbdfd/",
           "you're right, its over that. dumbass"
          ],
          [
           "Ethandrul",
           "/r/COVID/comments/mkfieu/can_i_refuse_covid_vaccine_as_medical_worker_usa/gthdtf8/",
           "Ummm...I never said I don't want to be vaccinated."
          ],
          [
           "[deleted]",
           "/r/COVID/comments/mjxxuv/quick_1_minute_survey_to_gather_public_experience/gth6je2/",
           "[removed]"
          ],
          [
           "Professional_Mine2",
           "/r/COVID/comments/mkfieu/can_i_refuse_covid_vaccine_as_medical_worker_usa/gth6h97/",
           "Thanks!"
          ],
          [
           "_QUAKE_",
           "/r/COVID/comments/mkk1pm/exposed_to_covid_day_of_first_vaccine/gti2rcj/",
           "Keep us updated."
          ],
          [
           "PedroLopes_5",
           "/r/COVID/comments/mkvr0q/no_to_covid_passports_please_sign/gti3pjd/",
           "This is an old petition"
          ],
          [
           "Saaeeek",
           "/r/COVID/comments/mkvr0q/no_to_covid_passports_please_sign/gti7k2s/",
           "that’s a worrying stance"
          ],
          [
           "EnvironmentalSalt107",
           "/r/COVID/comments/mks452/came_into_contact_with_someone_who_had_covid_and/gthjifa/",
           "Thanks. If I do get it though, I know where to poi"
          ],
          [
           "Your-Mask-Is-Tinfoil",
           "/r/COVID/comments/mks452/came_into_contact_with_someone_who_had_covid_and/gthmc1x/",
           "are you obese? 89% of covid deaths were people who"
          ],
          [
           "lbeesknees",
           "/r/COVID/comments/mkg9h0/covid_arm_never_left/gthmcec/",
           "ah thank you! that’s so helpful. I was just thinki"
          ],
          [
           "StudentInvestor1",
           "/r/COVID/comments/mks452/came_into_contact_with_someone_who_had_covid_and/gthjdi9/",
           "Good for you. You’re also a good brother as well."
          ],
          [
           "Mycatreallyhatesyou",
           "/r/COVID/comments/mimoyh/if_i_have_received_both_vaccines_do_i_still_need/gthmqts/",
           "Get over it, trump lost."
          ],
          [
           "kaos_hybryd",
           "/r/COVID/comments/mibnss/asu_watching_new_covid19_arizona_variant_with_a/gtib1xz/",
           "Your level of sarcasm is far beyond what I expecte"
          ],
          [
           "Beep1776",
           "/r/COVID/comments/mibnss/asu_watching_new_covid19_arizona_variant_with_a/gtiv54o/",
           "Read r/Covidlonghaulers."
          ],
          [
           "playmorezeppelin",
           "/r/COVID/comments/mkenlf/so_i_made_a_poster/gtk68ua/",
           "How do you explain Texas doing better than other s"
          ],
          [
           "thorniodas",
           "/r/COVID/comments/ml9hpp/getting_vaccine_on_friday_but_i_work_friday_night/gtk5rmg/",
           "My arm was sore as was the spot between my shoulde"
          ],
          [
           "iDioticArmyBianca",
           "/r/COVID/comments/mkenlf/so_i_made_a_poster/gtk7acd/",
           "Well i dont know maybe its because im not in ameri"
          ],
          [
           "SXFlyer",
           "/r/COVID/comments/mladms/does_lockdown_is_necessary/gtke6o5/",
           "if we didn’t have the first lockdown (March - May "
          ],
          [
           "roberj11",
           "/r/COVID/comments/ml9a8s/april_2020/gtkdt6o/",
           "I'm sick to death of hearing from the \"I know a pe"
          ],
          [
           "roberj11",
           "/r/COVID/comments/ml9a8s/april_2020/gtkgnmx/",
           "Well you did mention your health. You didn’t want "
          ],
          [
           "shugzybossman",
           "/r/COVID/comments/mjxkj2/covid_sucks_rant/gtjindb/",
           "You're *"
          ],
          [
           "Thud2",
           "/r/COVID/comments/mkg9h0/covid_arm_never_left/gtjt6nq/",
           "Is aganst law"
          ],
          [
           "Ok-Requirement-2992",
           "/r/COVID/comments/mlf752/i_have_nothing_to_do/gtl2xvy/",
           "That is definitely something America would do."
          ],
          [
           "Ok-Requirement-2992",
           "/r/COVID/comments/mkenlf/so_i_made_a_poster/gtl3a1q/",
           "OH GOD, I THOUGHT GEN Z KNEW ATLEAST SOMETHING."
          ]
         ],
         "hoverlabel": {
          "namelength": 0
         },
         "hovertemplate": "sentiment=positive<br>Date comment was posted on=%{x}<br>Comment positivity=%{y}<br>author=%{customdata[0]}<br>permalink=%{customdata[1]}<br>preview=%{customdata[2]}",
         "legendgroup": "positive",
         "marker": {
          "color": "lightseagreen",
          "symbol": "circle"
         },
         "mode": "markers",
         "name": "positive",
         "showlegend": true,
         "type": "scatter",
         "x": [
          "2021-04-05T22:34:07",
          "2021-04-05T23:31:24",
          "2021-04-05T20:44:53",
          "2021-04-05T20:36:31",
          "2021-04-05T23:52:02",
          "2021-04-06T02:13:24",
          "2021-04-06T15:43:31",
          "2021-04-06T15:45:54",
          "2021-04-06T16:02:06",
          "2021-04-06T16:12:10",
          "2021-04-06T15:36:26",
          "2021-04-06T15:45:54",
          "2021-04-04T19:41:55",
          "2021-04-04T20:09:25",
          "2021-04-04T22:59:47",
          "2021-04-04T22:28:45",
          "2021-04-04T23:14:25",
          "2021-04-05T01:13:52",
          "2021-04-05T01:09:11",
          "2021-04-05T02:34:27",
          "2021-04-05T03:44:48",
          "2021-04-05T04:53:52",
          "2021-04-05T05:45:27",
          "2021-04-05T06:07:41",
          "2021-04-05T06:27:11",
          "2021-04-05T06:49:45",
          "2021-04-05T06:47:50",
          "2021-04-05T06:46:39",
          "2021-04-05T06:50:57",
          "2021-04-05T08:19:10",
          "2021-04-05T08:45:55",
          "2021-04-05T12:19:01",
          "2021-04-04T19:13:01",
          "2021-04-05T12:59:41",
          "2021-04-05T13:49:24",
          "2021-04-05T13:40:53",
          "2021-04-05T15:53:44",
          "2021-04-05T15:17:49",
          "2021-04-05T18:02:39",
          "2021-04-05T18:00:36",
          "2021-04-05T16:28:02",
          "2021-04-05T16:37:42",
          "2021-04-05T18:32:01",
          "2021-04-05T18:34:16",
          "2021-04-05T16:42:45",
          "2021-04-05T18:24:09",
          "2021-04-05T18:42:57",
          "2021-04-05T17:47:29",
          "2021-04-05T17:47:04",
          "2021-04-05T21:55:00",
          "2021-04-05T22:02:45",
          "2021-04-05T22:34:43",
          "2021-04-05T19:26:24",
          "2021-04-05T19:48:00",
          "2021-04-05T19:48:04",
          "2021-04-05T19:25:22",
          "2021-04-05T19:51:03",
          "2021-04-05T23:04:09",
          "2021-04-06T01:55:56",
          "2021-04-06T12:01:31",
          "2021-04-06T11:56:17",
          "2021-04-06T12:12:39",
          "2021-04-06T13:17:37",
          "2021-04-06T13:14:23",
          "2021-04-06T13:38:27",
          "2021-04-06T06:05:19",
          "2021-04-06T08:55:12",
          "2021-04-06T16:26:24",
          "2021-04-06T16:28:48"
         ],
         "xaxis": "x",
         "y": [
          0,
          0,
          0.10089285714285713,
          0,
          0.005050505050505063,
          0,
          0.375,
          0.5,
          0,
          0,
          0.2635416666666667,
          0.44999999999999996,
          0.1888888888888889,
          0.13263888888888892,
          0,
          0,
          0,
          0.319047619047619,
          0.35,
          0.5,
          0,
          0.2844155844155844,
          0,
          0,
          0,
          0,
          0.4,
          0,
          0,
          0.35,
          0.30833333333333335,
          0,
          0.375,
          0,
          0,
          0,
          0,
          0.2,
          0,
          0,
          0.041666666666666664,
          0.25,
          0.011904761904761899,
          0.11214285714285714,
          0,
          0.2857142857142857,
          0.09173160173160175,
          0,
          0.25,
          0,
          0.1,
          0,
          0.2,
          0,
          0.10400000000000001,
          0.7,
          0,
          0,
          0,
          0.22023809523809523,
          0,
          0,
          0.005555555555555564,
          0.2607142857142857,
          0.04414335664335664,
          0,
          0,
          0,
          0
         ],
         "yaxis": "y"
        },
        {
         "customdata": [
          [
           "EntireCalligrapher26",
           "/r/COVID/comments/mjqb0v/my_parents_dont_take_covid19_seriously/gtdozuj/",
           "If you can't see how someone telling an impression"
          ],
          [
           "AddressNo7612",
           "/r/COVID/comments/mjxkj2/covid_sucks_rant/gtdvjkt/",
           "That really sucks but we're in a pandemic right no"
          ],
          [
           "Thud2",
           "/r/COVID/comments/mjt85x/covid_is_still_alive/gtdw7vb/",
           "You're so full of s*** you and your five other idi"
          ],
          [
           "roberj11",
           "/r/COVID/comments/mjt85x/covid_is_still_alive/gte3lzp/",
           "Why is following guidelines foolish??? I mean that"
          ],
          [
           "MKTAS",
           "/r/COVID/comments/mjt85x/covid_is_still_alive/gte21tx/",
           "Hey, just ignore the troller. They knew it was wro"
          ],
          [
           "roberj11",
           "/r/COVID/comments/mjzzqr/can_covid_survive_in_the_sink/gte4fgd/",
           "Seriously, what have you been doing the last 13 mo"
          ],
          [
           "roberj11",
           "/r/COVID/comments/mjt85x/covid_is_still_alive/gte7xkk/",
           "It might be difficult for you to grasp but it is p"
          ],
          [
           "roberj11",
           "/r/COVID/comments/mjzzqr/can_covid_survive_in_the_sink/gtelrnr/",
           "I mean what he is doing would be a reasonable requ"
          ],
          [
           "Thud2",
           "/r/COVID/comments/mk9ebj/is_this_covid_toe/gteoiu7/",
           "[https://abcnews.go.com/GMA/Strahan\\_Sara\\_and\\_Ke"
          ],
          [
           "No-Independence-6842",
           "/r/COVID/comments/mka3uk/worried_about_2nd_vaccine_dose/gteuscr/",
           "Usually if you have side effects from the first yo"
          ],
          [
           "Thud2",
           "/r/COVID/comments/mk3jut/yall_so_weird/gtevbm6/",
           "There a actually just a few of them but they briga"
          ],
          [
           "PowderFree723",
           "/r/COVID/comments/mk3jut/yall_so_weird/gtfb9o2/",
           "Oooohhh Block me!! I am a RN AND I want blocked by"
          ],
          [
           "Thud2",
           "/r/COVID/comments/mjxkj2/covid_sucks_rant/gtfqz0q/",
           "Why don't you go and tell the guy who's sick with "
          ],
          [
           "skoomaloy",
           "/r/COVID/comments/mkie11/prevaccine_cold_sore/gtg6z00/",
           "For one, I’m a moron. Two, I suffer from health an"
          ],
          [
           "Thud2",
           "/r/COVID/comments/mkg9h0/covid_arm_never_left/gtgpw5x/",
           "All capsu boy! There's 298 million people in the U"
          ],
          [
           "DrainedInside",
           "/r/COVID/comments/mibnss/asu_watching_new_covid19_arizona_variant_with_a/gtgrfb1/",
           "&gt; Vaccine causes outrageous number of symptoms "
          ],
          [
           "Thud2",
           "/r/COVID/comments/mkg9h0/covid_arm_never_left/gtgqq1m/",
           "I know some people have trouble with, you know, do"
          ],
          [
           "roberj11",
           "/r/COVID/comments/mkkw01/covid_vaccine_applied/gtgsqft/",
           "I don’t know what country you are in but in the co"
          ],
          [
           "PapiMurr31",
           "/r/COVID/comments/mibnss/asu_watching_new_covid19_arizona_variant_with_a/gthas2a/",
           "Political theatre used to create panic. Actually p"
          ],
          [
           "shugzybossman",
           "/r/COVID/comments/mjxkj2/covid_sucks_rant/gth7bv2/",
           "People reading this can see you don't want to enga"
          ],
          [
           "6018674512",
           "/r/COVID/comments/mibnss/asu_watching_new_covid19_arizona_variant_with_a/gti1vuy/",
           "You should probably smoke a little less weed."
          ],
          [
           "cucumbersnails",
           "/r/COVID/comments/mkr0yh/vaccine_effects_on_ferritin_levels/gti6oxt/",
           "Iron definitely is such a common diagnosis, the va"
          ],
          [
           "Haykat12",
           "/r/COVID/comments/mkk1pm/exposed_to_covid_day_of_first_vaccine/gti6rcy/",
           "But what’s strange is my county is now only consid"
          ],
          [
           "GrouchoBark",
           "/r/COVID/comments/mko2b9/vaccinations_vs_current_variants_need_perspective/gtirb1k/",
           "I totally agree with your assessment. With the “be"
          ],
          [
           "boomerismylastname",
           "/r/COVID/comments/ml9a8s/april_2020/gtk3hnp/",
           "Not when nurses and other health care workers are "
          ],
          [
           "roberj11",
           "/r/COVID/comments/ml9a8s/april_2020/gtk9tda/",
           "So you only left your home 20 times in a whole yea"
          ],
          [
           "GrouchoBark",
           "/r/COVID/comments/ml8rwo/i_may_be_infected/gtkbehd/",
           "You know the answer, act as you are infected until"
          ],
          [
           "shugzybossman",
           "/r/COVID/comments/mjxkj2/covid_sucks_rant/gtkjpga/",
           "You must be really embarrassed then being correcte"
          ],
          [
           "iDioticArmyBianca",
           "/r/COVID/comments/mkenlf/so_i_made_a_poster/gtkw9fd/",
           "Oh yea u are!! \nFacts abt u being stupid:)"
          ],
          [
           "Ok-Requirement-2992",
           "/r/COVID/comments/mkenlf/so_i_made_a_poster/gtkypww/",
           "False facts &lt;33"
          ],
          [
           "sneakpeekbot",
           "/r/COVID/comments/mkenlf/so_i_made_a_poster/gtkxajp/",
           "Here's a sneak peek of /r/tooktoomuch using the [t"
          ]
         ],
         "hoverlabel": {
          "namelength": 0
         },
         "hovertemplate": "sentiment=negative<br>Date comment was posted on=%{x}<br>Comment positivity=%{y}<br>author=%{customdata[0]}<br>permalink=%{customdata[1]}<br>preview=%{customdata[2]}",
         "legendgroup": "negative",
         "marker": {
          "color": "indianred",
          "symbol": "circle"
         },
         "mode": "markers",
         "name": "negative",
         "showlegend": true,
         "type": "scatter",
         "x": [
          "2021-04-04T20:08:46",
          "2021-04-04T21:05:53",
          "2021-04-04T21:11:51",
          "2021-04-04T22:17:13",
          "2021-04-04T22:03:22",
          "2021-04-04T22:24:28",
          "2021-04-04T22:56:19",
          "2021-04-05T01:06:42",
          "2021-04-05T01:32:46",
          "2021-04-05T02:33:20",
          "2021-04-05T02:38:31",
          "2021-04-05T05:40:22",
          "2021-04-05T09:48:23",
          "2021-04-05T13:05:08",
          "2021-04-05T15:42:36",
          "2021-04-05T15:54:05",
          "2021-04-05T15:48:53",
          "2021-04-05T16:03:56",
          "2021-04-05T18:19:38",
          "2021-04-05T17:53:22",
          "2021-04-05T21:47:57",
          "2021-04-05T22:27:26",
          "2021-04-05T22:27:59",
          "2021-04-06T01:22:50",
          "2021-04-06T11:29:56",
          "2021-04-06T12:38:07",
          "2021-04-06T12:52:58",
          "2021-04-06T14:03:09",
          "2021-04-06T15:37:45",
          "2021-04-06T15:55:45",
          "2021-04-06T15:45:21"
         ],
         "xaxis": "x",
         "y": [
          -0.6,
          -0.12285714285714285,
          -0.1830357142857143,
          -0.055113636363636365,
          -0.20833333333333334,
          -0.16666666666666666,
          -0.047034143518518506,
          -0.056249999999999994,
          -0.039999999999999994,
          -0.15999999999999998,
          -0.1,
          -0.2,
          -0.15357142857142855,
          -0.34,
          -0.15000000000000002,
          -1,
          -0.2,
          -0.5,
          -0.08333333333333333,
          -0.3458333333333333,
          -0.17708333333333331,
          -0.019999999999999997,
          -0.11846938775510206,
          -0.019999999999999997,
          -0.006944444444444457,
          -0.09444444444444444,
          -0.1,
          -0.1277777777777778,
          -0.14999999999999997,
          -0.4000000000000001,
          -0.325
         ],
         "yaxis": "y"
        }
       ],
       "layout": {
        "legend": {
         "title": {
          "text": "sentiment"
         },
         "tracegroupgap": 0
        },
        "template": {
         "data": {
          "bar": [
           {
            "error_x": {
             "color": "#2a3f5f"
            },
            "error_y": {
             "color": "#2a3f5f"
            },
            "marker": {
             "line": {
              "color": "#E5ECF6",
              "width": 0.5
             }
            },
            "type": "bar"
           }
          ],
          "barpolar": [
           {
            "marker": {
             "line": {
              "color": "#E5ECF6",
              "width": 0.5
             }
            },
            "type": "barpolar"
           }
          ],
          "carpet": [
           {
            "aaxis": {
             "endlinecolor": "#2a3f5f",
             "gridcolor": "white",
             "linecolor": "white",
             "minorgridcolor": "white",
             "startlinecolor": "#2a3f5f"
            },
            "baxis": {
             "endlinecolor": "#2a3f5f",
             "gridcolor": "white",
             "linecolor": "white",
             "minorgridcolor": "white",
             "startlinecolor": "#2a3f5f"
            },
            "type": "carpet"
           }
          ],
          "choropleth": [
           {
            "colorbar": {
             "outlinewidth": 0,
             "ticks": ""
            },
            "type": "choropleth"
           }
          ],
          "contour": [
           {
            "colorbar": {
             "outlinewidth": 0,
             "ticks": ""
            },
            "colorscale": [
             [
              0,
              "#0d0887"
             ],
             [
              0.1111111111111111,
              "#46039f"
             ],
             [
              0.2222222222222222,
              "#7201a8"
             ],
             [
              0.3333333333333333,
              "#9c179e"
             ],
             [
              0.4444444444444444,
              "#bd3786"
             ],
             [
              0.5555555555555556,
              "#d8576b"
             ],
             [
              0.6666666666666666,
              "#ed7953"
             ],
             [
              0.7777777777777778,
              "#fb9f3a"
             ],
             [
              0.8888888888888888,
              "#fdca26"
             ],
             [
              1,
              "#f0f921"
             ]
            ],
            "type": "contour"
           }
          ],
          "contourcarpet": [
           {
            "colorbar": {
             "outlinewidth": 0,
             "ticks": ""
            },
            "type": "contourcarpet"
           }
          ],
          "heatmap": [
           {
            "colorbar": {
             "outlinewidth": 0,
             "ticks": ""
            },
            "colorscale": [
             [
              0,
              "#0d0887"
             ],
             [
              0.1111111111111111,
              "#46039f"
             ],
             [
              0.2222222222222222,
              "#7201a8"
             ],
             [
              0.3333333333333333,
              "#9c179e"
             ],
             [
              0.4444444444444444,
              "#bd3786"
             ],
             [
              0.5555555555555556,
              "#d8576b"
             ],
             [
              0.6666666666666666,
              "#ed7953"
             ],
             [
              0.7777777777777778,
              "#fb9f3a"
             ],
             [
              0.8888888888888888,
              "#fdca26"
             ],
             [
              1,
              "#f0f921"
             ]
            ],
            "type": "heatmap"
           }
          ],
          "heatmapgl": [
           {
            "colorbar": {
             "outlinewidth": 0,
             "ticks": ""
            },
            "colorscale": [
             [
              0,
              "#0d0887"
             ],
             [
              0.1111111111111111,
              "#46039f"
             ],
             [
              0.2222222222222222,
              "#7201a8"
             ],
             [
              0.3333333333333333,
              "#9c179e"
             ],
             [
              0.4444444444444444,
              "#bd3786"
             ],
             [
              0.5555555555555556,
              "#d8576b"
             ],
             [
              0.6666666666666666,
              "#ed7953"
             ],
             [
              0.7777777777777778,
              "#fb9f3a"
             ],
             [
              0.8888888888888888,
              "#fdca26"
             ],
             [
              1,
              "#f0f921"
             ]
            ],
            "type": "heatmapgl"
           }
          ],
          "histogram": [
           {
            "marker": {
             "colorbar": {
              "outlinewidth": 0,
              "ticks": ""
             }
            },
            "type": "histogram"
           }
          ],
          "histogram2d": [
           {
            "colorbar": {
             "outlinewidth": 0,
             "ticks": ""
            },
            "colorscale": [
             [
              0,
              "#0d0887"
             ],
             [
              0.1111111111111111,
              "#46039f"
             ],
             [
              0.2222222222222222,
              "#7201a8"
             ],
             [
              0.3333333333333333,
              "#9c179e"
             ],
             [
              0.4444444444444444,
              "#bd3786"
             ],
             [
              0.5555555555555556,
              "#d8576b"
             ],
             [
              0.6666666666666666,
              "#ed7953"
             ],
             [
              0.7777777777777778,
              "#fb9f3a"
             ],
             [
              0.8888888888888888,
              "#fdca26"
             ],
             [
              1,
              "#f0f921"
             ]
            ],
            "type": "histogram2d"
           }
          ],
          "histogram2dcontour": [
           {
            "colorbar": {
             "outlinewidth": 0,
             "ticks": ""
            },
            "colorscale": [
             [
              0,
              "#0d0887"
             ],
             [
              0.1111111111111111,
              "#46039f"
             ],
             [
              0.2222222222222222,
              "#7201a8"
             ],
             [
              0.3333333333333333,
              "#9c179e"
             ],
             [
              0.4444444444444444,
              "#bd3786"
             ],
             [
              0.5555555555555556,
              "#d8576b"
             ],
             [
              0.6666666666666666,
              "#ed7953"
             ],
             [
              0.7777777777777778,
              "#fb9f3a"
             ],
             [
              0.8888888888888888,
              "#fdca26"
             ],
             [
              1,
              "#f0f921"
             ]
            ],
            "type": "histogram2dcontour"
           }
          ],
          "mesh3d": [
           {
            "colorbar": {
             "outlinewidth": 0,
             "ticks": ""
            },
            "type": "mesh3d"
           }
          ],
          "parcoords": [
           {
            "line": {
             "colorbar": {
              "outlinewidth": 0,
              "ticks": ""
             }
            },
            "type": "parcoords"
           }
          ],
          "pie": [
           {
            "automargin": true,
            "type": "pie"
           }
          ],
          "scatter": [
           {
            "marker": {
             "colorbar": {
              "outlinewidth": 0,
              "ticks": ""
             }
            },
            "type": "scatter"
           }
          ],
          "scatter3d": [
           {
            "line": {
             "colorbar": {
              "outlinewidth": 0,
              "ticks": ""
             }
            },
            "marker": {
             "colorbar": {
              "outlinewidth": 0,
              "ticks": ""
             }
            },
            "type": "scatter3d"
           }
          ],
          "scattercarpet": [
           {
            "marker": {
             "colorbar": {
              "outlinewidth": 0,
              "ticks": ""
             }
            },
            "type": "scattercarpet"
           }
          ],
          "scattergeo": [
           {
            "marker": {
             "colorbar": {
              "outlinewidth": 0,
              "ticks": ""
             }
            },
            "type": "scattergeo"
           }
          ],
          "scattergl": [
           {
            "marker": {
             "colorbar": {
              "outlinewidth": 0,
              "ticks": ""
             }
            },
            "type": "scattergl"
           }
          ],
          "scattermapbox": [
           {
            "marker": {
             "colorbar": {
              "outlinewidth": 0,
              "ticks": ""
             }
            },
            "type": "scattermapbox"
           }
          ],
          "scatterpolar": [
           {
            "marker": {
             "colorbar": {
              "outlinewidth": 0,
              "ticks": ""
             }
            },
            "type": "scatterpolar"
           }
          ],
          "scatterpolargl": [
           {
            "marker": {
             "colorbar": {
              "outlinewidth": 0,
              "ticks": ""
             }
            },
            "type": "scatterpolargl"
           }
          ],
          "scatterternary": [
           {
            "marker": {
             "colorbar": {
              "outlinewidth": 0,
              "ticks": ""
             }
            },
            "type": "scatterternary"
           }
          ],
          "surface": [
           {
            "colorbar": {
             "outlinewidth": 0,
             "ticks": ""
            },
            "colorscale": [
             [
              0,
              "#0d0887"
             ],
             [
              0.1111111111111111,
              "#46039f"
             ],
             [
              0.2222222222222222,
              "#7201a8"
             ],
             [
              0.3333333333333333,
              "#9c179e"
             ],
             [
              0.4444444444444444,
              "#bd3786"
             ],
             [
              0.5555555555555556,
              "#d8576b"
             ],
             [
              0.6666666666666666,
              "#ed7953"
             ],
             [
              0.7777777777777778,
              "#fb9f3a"
             ],
             [
              0.8888888888888888,
              "#fdca26"
             ],
             [
              1,
              "#f0f921"
             ]
            ],
            "type": "surface"
           }
          ],
          "table": [
           {
            "cells": {
             "fill": {
              "color": "#EBF0F8"
             },
             "line": {
              "color": "white"
             }
            },
            "header": {
             "fill": {
              "color": "#C8D4E3"
             },
             "line": {
              "color": "white"
             }
            },
            "type": "table"
           }
          ]
         },
         "layout": {
          "annotationdefaults": {
           "arrowcolor": "#2a3f5f",
           "arrowhead": 0,
           "arrowwidth": 1
          },
          "coloraxis": {
           "colorbar": {
            "outlinewidth": 0,
            "ticks": ""
           }
          },
          "colorscale": {
           "diverging": [
            [
             0,
             "#8e0152"
            ],
            [
             0.1,
             "#c51b7d"
            ],
            [
             0.2,
             "#de77ae"
            ],
            [
             0.3,
             "#f1b6da"
            ],
            [
             0.4,
             "#fde0ef"
            ],
            [
             0.5,
             "#f7f7f7"
            ],
            [
             0.6,
             "#e6f5d0"
            ],
            [
             0.7,
             "#b8e186"
            ],
            [
             0.8,
             "#7fbc41"
            ],
            [
             0.9,
             "#4d9221"
            ],
            [
             1,
             "#276419"
            ]
           ],
           "sequential": [
            [
             0,
             "#0d0887"
            ],
            [
             0.1111111111111111,
             "#46039f"
            ],
            [
             0.2222222222222222,
             "#7201a8"
            ],
            [
             0.3333333333333333,
             "#9c179e"
            ],
            [
             0.4444444444444444,
             "#bd3786"
            ],
            [
             0.5555555555555556,
             "#d8576b"
            ],
            [
             0.6666666666666666,
             "#ed7953"
            ],
            [
             0.7777777777777778,
             "#fb9f3a"
            ],
            [
             0.8888888888888888,
             "#fdca26"
            ],
            [
             1,
             "#f0f921"
            ]
           ],
           "sequentialminus": [
            [
             0,
             "#0d0887"
            ],
            [
             0.1111111111111111,
             "#46039f"
            ],
            [
             0.2222222222222222,
             "#7201a8"
            ],
            [
             0.3333333333333333,
             "#9c179e"
            ],
            [
             0.4444444444444444,
             "#bd3786"
            ],
            [
             0.5555555555555556,
             "#d8576b"
            ],
            [
             0.6666666666666666,
             "#ed7953"
            ],
            [
             0.7777777777777778,
             "#fb9f3a"
            ],
            [
             0.8888888888888888,
             "#fdca26"
            ],
            [
             1,
             "#f0f921"
            ]
           ]
          },
          "colorway": [
           "#636efa",
           "#EF553B",
           "#00cc96",
           "#ab63fa",
           "#FFA15A",
           "#19d3f3",
           "#FF6692",
           "#B6E880",
           "#FF97FF",
           "#FECB52"
          ],
          "font": {
           "color": "#2a3f5f"
          },
          "geo": {
           "bgcolor": "white",
           "lakecolor": "white",
           "landcolor": "#E5ECF6",
           "showlakes": true,
           "showland": true,
           "subunitcolor": "white"
          },
          "hoverlabel": {
           "align": "left"
          },
          "hovermode": "closest",
          "mapbox": {
           "style": "light"
          },
          "paper_bgcolor": "white",
          "plot_bgcolor": "#E5ECF6",
          "polar": {
           "angularaxis": {
            "gridcolor": "white",
            "linecolor": "white",
            "ticks": ""
           },
           "bgcolor": "#E5ECF6",
           "radialaxis": {
            "gridcolor": "white",
            "linecolor": "white",
            "ticks": ""
           }
          },
          "scene": {
           "xaxis": {
            "backgroundcolor": "#E5ECF6",
            "gridcolor": "white",
            "gridwidth": 2,
            "linecolor": "white",
            "showbackground": true,
            "ticks": "",
            "zerolinecolor": "white"
           },
           "yaxis": {
            "backgroundcolor": "#E5ECF6",
            "gridcolor": "white",
            "gridwidth": 2,
            "linecolor": "white",
            "showbackground": true,
            "ticks": "",
            "zerolinecolor": "white"
           },
           "zaxis": {
            "backgroundcolor": "#E5ECF6",
            "gridcolor": "white",
            "gridwidth": 2,
            "linecolor": "white",
            "showbackground": true,
            "ticks": "",
            "zerolinecolor": "white"
           }
          },
          "shapedefaults": {
           "line": {
            "color": "#2a3f5f"
           }
          },
          "ternary": {
           "aaxis": {
            "gridcolor": "white",
            "linecolor": "white",
            "ticks": ""
           },
           "baxis": {
            "gridcolor": "white",
            "linecolor": "white",
            "ticks": ""
           },
           "bgcolor": "#E5ECF6",
           "caxis": {
            "gridcolor": "white",
            "linecolor": "white",
            "ticks": ""
           }
          },
          "title": {
           "x": 0.05
          },
          "xaxis": {
           "automargin": true,
           "gridcolor": "white",
           "linecolor": "white",
           "ticks": "",
           "title": {
            "standoff": 15
           },
           "zerolinecolor": "white",
           "zerolinewidth": 2
          },
          "yaxis": {
           "automargin": true,
           "gridcolor": "white",
           "linecolor": "white",
           "ticks": "",
           "title": {
            "standoff": 15
           },
           "zerolinecolor": "white",
           "zerolinewidth": 2
          }
         }
        },
        "title": {
         "text": "Comment sentiment in /r/covid for the past 48h"
        },
        "xaxis": {
         "anchor": "y",
         "domain": [
          0,
          1
         ],
         "title": {
          "text": "Date comment was posted on"
         }
        },
        "yaxis": {
         "anchor": "x",
         "domain": [
          0,
          1
         ],
         "title": {
          "text": "Comment positivity"
         }
        }
       }
      },
      "text/html": [
       "<div>\n",
       "        \n",
       "        \n",
       "            <div id=\"c04ad03d-3775-4035-a9d9-d7449c19f6f5\" class=\"plotly-graph-div\" style=\"height:525px; width:100%;\"></div>\n",
       "            <script type=\"text/javascript\">\n",
       "                require([\"plotly\"], function(Plotly) {\n",
       "                    window.PLOTLYENV=window.PLOTLYENV || {};\n",
       "                    \n",
       "                if (document.getElementById(\"c04ad03d-3775-4035-a9d9-d7449c19f6f5\")) {\n",
       "                    Plotly.newPlot(\n",
       "                        'c04ad03d-3775-4035-a9d9-d7449c19f6f5',\n",
       "                        [{\"customdata\": [[\"PM_ME_YOUR_KANKLES\", \"/r/COVID/comments/mkvr0q/no_to_covid_passports_please_sign/gti7hh3/\", \"Can you link me to one that supports covid passpor\"], [\"EntireCalligrapher26\", \"/r/COVID/comments/mkx3on/outdoor_transmissions_accounts_for_01_of_the/gtie93r/\", \"Tell this to people walking alone with a mask on.\"], [\"agkemp97\", \"/r/COVID/comments/mkr0yh/vaccine_effects_on_ferritin_levels/gthtthi/\", \"I\\u2019ve heard of some vaccines in general causing idi\"], [\"Your-Mask-Is-Tinfoil\", \"/r/COVID/comments/mkttca/if_the_cdc_determines_that_vaccinated_people_have/gthsqds/\", \"No.\"], [\"SXFlyer\", \"/r/COVID/comments/mkxznl/why_isnt_there_more_walk_in_covid_testing/gtigmyu/\", \"That sucks. But isn\\u2019t New York state now allowing \"], [\"dibernap\", \"/r/COVID/comments/mkx3on/outdoor_transmissions_accounts_for_01_of_the/gtix590/\", \"This is news?\"], [\"iDioticArmyBianca\", \"/r/COVID/comments/mkenlf/so_i_made_a_poster/gtkx1ho/\", \"I LIKE UR FUNNY WORDS MAGIC MAN AGAHHAHAHAHAHA\"], [\"iDioticArmyBianca\", \"/r/COVID/comments/mkenlf/so_i_made_a_poster/gtkxd7u/\", \"nah mate thats u :)\"], [\"iDioticArmyBianca\", \"/r/COVID/comments/mkenlf/so_i_made_a_poster/gtkzle9/\", \"GO OFF\\ud83d\\udc4f\\ud83d\\udc4f\\ud83d\\udc4f\\ud83d\\udc4f\"], [\"CoconutAlert9046\", \"/r/COVID/comments/mlf752/i_have_nothing_to_do/gtl0ylb/\", \"Usa have cured cancer but arent releasing the anti\"], [\"jmoney3001\", \"/r/COVID/comments/ml9a8s/april_2020/gtkw30c/\", \"Fuck this guy. You are surviving a terrible and do\"], [\"nazarlawshawdee\", \"/r/COVID/comments/ml9a8s/april_2020/gtkxd9l/\", \"This sub is full of covid-denying antivax q-anon c\"], [\"VictoriaMichelle__\", \"/r/COVID/comments/mjzzqr/can_covid_survive_in_the_sink/gtdlwld/\", \"I kissed my bf the first day he had symptoms and I\"], [\"AddressNo7612\", \"/r/COVID/comments/mjt85x/covid_is_still_alive/gtdp2c9/\", \"I pray for your speedy recovery. In the beginning \"], [\"Linzoshbuker\", \"/r/COVID/comments/me0x0m/menstrual_cycle_irregular_after_covid19/gte8b2x/\", \"Have you gotten any answers from this?\"], [\"tyleryoung222\", \"/r/COVID/comments/mjzzqr/can_covid_survive_in_the_sink/gte4weh/\", \"Not wasting my time being a douche on Reddit\"], [\"Thud2\", \"/r/COVID/comments/mjt85x/covid_is_still_alive/gte9vcz/\", \"Is this your argument?\"], [\"AddressNo7612\", \"/r/COVID/comments/mk3jut/yall_so_weird/gtemixo/\", \"I know right! These people have nothing else bette\"], [\"AddressNo7612\", \"/r/COVID/comments/mk3jut/yall_so_weird/gtem110/\", \"That's good enough for me. Now they can talk to th\"], [\"Thud2\", \"/r/COVID/comments/mk3jut/yall_so_weird/gteuwdn/\", \"Most opinions don't cause death. The ones that do \"], [\"Imnewhere948\", \"/r/COVID/comments/mkbsut/just_learned_this_afternoon_uk_strain_of_covid19/gtf1qbg/\", \"Which covid vaccine are you referring to?\"], [\"MKTAS\", \"/r/COVID/comments/mjt85x/covid_is_still_alive/gtf7qnr/\", \"Nah, they will be barking at their new home, 4x4 c\"], [\"PowderFree723\", \"/r/COVID/comments/mk7n3r/can_you_still_give_off_covid_to_others_if_you/gtfbmw6/\", \"Do you understand the definition of vaccines??\"], [\"Thud2\", \"/r/COVID/comments/mk7n3r/can_you_still_give_off_covid_to_others_if_you/gtfd7x9/\", \"Helloooo?\"], [\"Thud2\", \"/r/COVID/comments/mk7n3r/can_you_still_give_off_covid_to_others_if_you/gtfekf1/\", \"Hello, Who's this?\"], [\"Thud2\", \"/r/COVID/comments/mk7n3r/can_you_still_give_off_covid_to_others_if_you/gtfg2kn/\", \"None do what?\"], [\"PowderFree723\", \"/r/COVID/comments/mk7n3r/can_you_still_give_off_covid_to_others_if_you/gtffxut/\", \"Hmm \\ud83e\\udd14 none do according to the research available.\"], [\"PowderFree723\", \"/r/COVID/comments/mk7n3r/can_you_still_give_off_covid_to_others_if_you/gtffv04/\", \"He\\u2019s a she and no I don\\u2019t make those type of noise\"], [\"Thud2\", \"/r/COVID/comments/mk7n3r/can_you_still_give_off_covid_to_others_if_you/gtfg5gx/\", \"If you don't identify yourself I'm going to hang u\"], [\"iDioticArmyBianca\", \"/r/COVID/comments/mkenlf/so_i_made_a_poster/gtfllkw/\", \"thanks man :))\"], [\"faizanalikhan9\", \"/r/COVID/comments/mk4fgk/no_appetite_at_all_help/gtfn6z3/\", \"Hi, i had the same issue untul i was taken to the \"], [\"shugzybossman\", \"/r/COVID/comments/mjxkj2/covid_sucks_rant/gtg2gd9/\", \"I have no idea what you're talking about. Get a gi\"], [\"roberj11\", \"/r/COVID/comments/mjt85x/covid_is_still_alive/gtdikm2/\", \"I wouldn\\u2019t go straight to medication. Maybe some m\"], [\"BreakingGaw\", \"/r/COVID/comments/mkenlf/so_i_made_a_poster/gtg6en8/\", \"Yea boi\"], [\"No-Independence-6842\", \"/r/COVID/comments/mkidkd/anyone_w_diabetes_who_has_been_vaccinated/gtgbu0o/\", \"The vaccine has no effect on diabetes.\"], [\"DrgSlinger475\", \"/r/COVID/comments/mkfieu/can_i_refuse_covid_vaccine_as_medical_worker_usa/gtgav49/\", \"You can refuse, but that refusal may come with con\"], [\"GrouchoBark\", \"/r/COVID/comments/mkfieu/can_i_refuse_covid_vaccine_as_medical_worker_usa/gtgrdm5/\", \"You should change your profession if you don\\u2019t bel\"], [\"COVID_VacciNATION\", \"/r/COVID/comments/mkmg7j/covid_vaccination_weekly_dose_apr_5_2021_covid/gtgmklb/\", \"Much appreciated.  Thank you.\"], [\"[deleted]\", \"/r/COVID/comments/mibnss/asu_watching_new_covid19_arizona_variant_with_a/gth8jxp/\", \"[deleted]\"], [\"EntireCalligrapher26\", \"/r/COVID/comments/mibnss/asu_watching_new_covid19_arizona_variant_with_a/gth8ae3/\", \"500K people have not died of this virus.  That's a\"], [\"ObjectiveToe8023\", \"/r/COVID/comments/mkkbnv/crowd_chants_get_out_at_health_inspectors_issuing/gtgvy89/\", \"I fully support this restaurant. Enough is enough.\"], [\"dqmachine\", \"/r/COVID/comments/mibnss/asu_watching_new_covid19_arizona_variant_with_a/gtgx8b9/\", \"Funny. I just saw it.\\n\\nThat is exactly why i dont \"], [\"EntireCalligrapher26\", \"/r/COVID/comments/mibnss/asu_watching_new_covid19_arizona_variant_with_a/gthce8s/\", \"Nope.  Not really.  Sorry, but I'm right and you'r\"], [\"desertrat75\", \"/r/COVID/comments/mibnss/asu_watching_new_covid19_arizona_variant_with_a/gthcoop/\", \"That\\u2019s right folks. The entire world stopped turni\"], [\"skoomaloy\", \"/r/COVID/comments/mkie11/prevaccine_cold_sore/gtgxw9e/\", \"Thank you\"], [\"jakekorz\", \"/r/COVID/comments/mibnss/asu_watching_new_covid19_arizona_variant_with_a/gthbdfd/\", \"you're right, its over that. dumbass\"], [\"Ethandrul\", \"/r/COVID/comments/mkfieu/can_i_refuse_covid_vaccine_as_medical_worker_usa/gthdtf8/\", \"Ummm...I never said I don't want to be vaccinated.\"], [\"[deleted]\", \"/r/COVID/comments/mjxxuv/quick_1_minute_survey_to_gather_public_experience/gth6je2/\", \"[removed]\"], [\"Professional_Mine2\", \"/r/COVID/comments/mkfieu/can_i_refuse_covid_vaccine_as_medical_worker_usa/gth6h97/\", \"Thanks!\"], [\"_QUAKE_\", \"/r/COVID/comments/mkk1pm/exposed_to_covid_day_of_first_vaccine/gti2rcj/\", \"Keep us updated.\"], [\"PedroLopes_5\", \"/r/COVID/comments/mkvr0q/no_to_covid_passports_please_sign/gti3pjd/\", \"This is an old petition\"], [\"Saaeeek\", \"/r/COVID/comments/mkvr0q/no_to_covid_passports_please_sign/gti7k2s/\", \"that\\u2019s a worrying stance\"], [\"EnvironmentalSalt107\", \"/r/COVID/comments/mks452/came_into_contact_with_someone_who_had_covid_and/gthjifa/\", \"Thanks. If I do get it though, I know where to poi\"], [\"Your-Mask-Is-Tinfoil\", \"/r/COVID/comments/mks452/came_into_contact_with_someone_who_had_covid_and/gthmc1x/\", \"are you obese? 89% of covid deaths were people who\"], [\"lbeesknees\", \"/r/COVID/comments/mkg9h0/covid_arm_never_left/gthmcec/\", \"ah thank you! that\\u2019s so helpful. I was just thinki\"], [\"StudentInvestor1\", \"/r/COVID/comments/mks452/came_into_contact_with_someone_who_had_covid_and/gthjdi9/\", \"Good for you. You\\u2019re also a good brother as well.\"], [\"Mycatreallyhatesyou\", \"/r/COVID/comments/mimoyh/if_i_have_received_both_vaccines_do_i_still_need/gthmqts/\", \"Get over it, trump lost.\"], [\"kaos_hybryd\", \"/r/COVID/comments/mibnss/asu_watching_new_covid19_arizona_variant_with_a/gtib1xz/\", \"Your level of sarcasm is far beyond what I expecte\"], [\"Beep1776\", \"/r/COVID/comments/mibnss/asu_watching_new_covid19_arizona_variant_with_a/gtiv54o/\", \"Read r/Covidlonghaulers.\"], [\"playmorezeppelin\", \"/r/COVID/comments/mkenlf/so_i_made_a_poster/gtk68ua/\", \"How do you explain Texas doing better than other s\"], [\"thorniodas\", \"/r/COVID/comments/ml9hpp/getting_vaccine_on_friday_but_i_work_friday_night/gtk5rmg/\", \"My arm was sore as was the spot between my shoulde\"], [\"iDioticArmyBianca\", \"/r/COVID/comments/mkenlf/so_i_made_a_poster/gtk7acd/\", \"Well i dont know maybe its because im not in ameri\"], [\"SXFlyer\", \"/r/COVID/comments/mladms/does_lockdown_is_necessary/gtke6o5/\", \"if we didn\\u2019t have the first lockdown (March - May \"], [\"roberj11\", \"/r/COVID/comments/ml9a8s/april_2020/gtkdt6o/\", \"I'm sick to death of hearing from the \\\"I know a pe\"], [\"roberj11\", \"/r/COVID/comments/ml9a8s/april_2020/gtkgnmx/\", \"Well you did mention your health. You didn\\u2019t want \"], [\"shugzybossman\", \"/r/COVID/comments/mjxkj2/covid_sucks_rant/gtjindb/\", \"You're *\"], [\"Thud2\", \"/r/COVID/comments/mkg9h0/covid_arm_never_left/gtjt6nq/\", \"Is aganst law\"], [\"Ok-Requirement-2992\", \"/r/COVID/comments/mlf752/i_have_nothing_to_do/gtl2xvy/\", \"That is definitely something America would do.\"], [\"Ok-Requirement-2992\", \"/r/COVID/comments/mkenlf/so_i_made_a_poster/gtl3a1q/\", \"OH GOD, I THOUGHT GEN Z KNEW ATLEAST SOMETHING.\"]], \"hoverlabel\": {\"namelength\": 0}, \"hovertemplate\": \"sentiment=positive<br>Date comment was posted on=%{x}<br>Comment positivity=%{y}<br>author=%{customdata[0]}<br>permalink=%{customdata[1]}<br>preview=%{customdata[2]}\", \"legendgroup\": \"positive\", \"marker\": {\"color\": \"lightseagreen\", \"symbol\": \"circle\"}, \"mode\": \"markers\", \"name\": \"positive\", \"showlegend\": true, \"type\": \"scatter\", \"x\": [\"2021-04-05T22:34:07\", \"2021-04-05T23:31:24\", \"2021-04-05T20:44:53\", \"2021-04-05T20:36:31\", \"2021-04-05T23:52:02\", \"2021-04-06T02:13:24\", \"2021-04-06T15:43:31\", \"2021-04-06T15:45:54\", \"2021-04-06T16:02:06\", \"2021-04-06T16:12:10\", \"2021-04-06T15:36:26\", \"2021-04-06T15:45:54\", \"2021-04-04T19:41:55\", \"2021-04-04T20:09:25\", \"2021-04-04T22:59:47\", \"2021-04-04T22:28:45\", \"2021-04-04T23:14:25\", \"2021-04-05T01:13:52\", \"2021-04-05T01:09:11\", \"2021-04-05T02:34:27\", \"2021-04-05T03:44:48\", \"2021-04-05T04:53:52\", \"2021-04-05T05:45:27\", \"2021-04-05T06:07:41\", \"2021-04-05T06:27:11\", \"2021-04-05T06:49:45\", \"2021-04-05T06:47:50\", \"2021-04-05T06:46:39\", \"2021-04-05T06:50:57\", \"2021-04-05T08:19:10\", \"2021-04-05T08:45:55\", \"2021-04-05T12:19:01\", \"2021-04-04T19:13:01\", \"2021-04-05T12:59:41\", \"2021-04-05T13:49:24\", \"2021-04-05T13:40:53\", \"2021-04-05T15:53:44\", \"2021-04-05T15:17:49\", \"2021-04-05T18:02:39\", \"2021-04-05T18:00:36\", \"2021-04-05T16:28:02\", \"2021-04-05T16:37:42\", \"2021-04-05T18:32:01\", \"2021-04-05T18:34:16\", \"2021-04-05T16:42:45\", \"2021-04-05T18:24:09\", \"2021-04-05T18:42:57\", \"2021-04-05T17:47:29\", \"2021-04-05T17:47:04\", \"2021-04-05T21:55:00\", \"2021-04-05T22:02:45\", \"2021-04-05T22:34:43\", \"2021-04-05T19:26:24\", \"2021-04-05T19:48:00\", \"2021-04-05T19:48:04\", \"2021-04-05T19:25:22\", \"2021-04-05T19:51:03\", \"2021-04-05T23:04:09\", \"2021-04-06T01:55:56\", \"2021-04-06T12:01:31\", \"2021-04-06T11:56:17\", \"2021-04-06T12:12:39\", \"2021-04-06T13:17:37\", \"2021-04-06T13:14:23\", \"2021-04-06T13:38:27\", \"2021-04-06T06:05:19\", \"2021-04-06T08:55:12\", \"2021-04-06T16:26:24\", \"2021-04-06T16:28:48\"], \"xaxis\": \"x\", \"y\": [0.0, 0.0, 0.10089285714285713, 0.0, 0.005050505050505063, 0.0, 0.375, 0.5, 0.0, 0.0, 0.2635416666666667, 0.44999999999999996, 0.1888888888888889, 0.13263888888888892, 0.0, 0.0, 0.0, 0.319047619047619, 0.35, 0.5, 0.0, 0.2844155844155844, 0.0, 0.0, 0.0, 0.0, 0.4, 0.0, 0.0, 0.35, 0.30833333333333335, 0.0, 0.375, 0.0, 0.0, 0.0, 0.0, 0.2, 0.0, 0.0, 0.041666666666666664, 0.25, 0.011904761904761899, 0.11214285714285714, 0.0, 0.2857142857142857, 0.09173160173160175, 0.0, 0.25, 0.0, 0.1, 0.0, 0.2, 0.0, 0.10400000000000001, 0.7, 0.0, 0.0, 0.0, 0.22023809523809523, 0.0, 0.0, 0.005555555555555564, 0.2607142857142857, 0.04414335664335664, 0.0, 0.0, 0.0, 0.0], \"yaxis\": \"y\"}, {\"customdata\": [[\"EntireCalligrapher26\", \"/r/COVID/comments/mjqb0v/my_parents_dont_take_covid19_seriously/gtdozuj/\", \"If you can't see how someone telling an impression\"], [\"AddressNo7612\", \"/r/COVID/comments/mjxkj2/covid_sucks_rant/gtdvjkt/\", \"That really sucks but we're in a pandemic right no\"], [\"Thud2\", \"/r/COVID/comments/mjt85x/covid_is_still_alive/gtdw7vb/\", \"You're so full of s*** you and your five other idi\"], [\"roberj11\", \"/r/COVID/comments/mjt85x/covid_is_still_alive/gte3lzp/\", \"Why is following guidelines foolish??? I mean that\"], [\"MKTAS\", \"/r/COVID/comments/mjt85x/covid_is_still_alive/gte21tx/\", \"Hey, just ignore the troller. They knew it was wro\"], [\"roberj11\", \"/r/COVID/comments/mjzzqr/can_covid_survive_in_the_sink/gte4fgd/\", \"Seriously, what have you been doing the last 13 mo\"], [\"roberj11\", \"/r/COVID/comments/mjt85x/covid_is_still_alive/gte7xkk/\", \"It might be difficult for you to grasp but it is p\"], [\"roberj11\", \"/r/COVID/comments/mjzzqr/can_covid_survive_in_the_sink/gtelrnr/\", \"I mean what he is doing would be a reasonable requ\"], [\"Thud2\", \"/r/COVID/comments/mk9ebj/is_this_covid_toe/gteoiu7/\", \"[https://abcnews.go.com/GMA/Strahan\\\\_Sara\\\\_and\\\\_Ke\"], [\"No-Independence-6842\", \"/r/COVID/comments/mka3uk/worried_about_2nd_vaccine_dose/gteuscr/\", \"Usually if you have side effects from the first yo\"], [\"Thud2\", \"/r/COVID/comments/mk3jut/yall_so_weird/gtevbm6/\", \"There a actually just a few of them but they briga\"], [\"PowderFree723\", \"/r/COVID/comments/mk3jut/yall_so_weird/gtfb9o2/\", \"Oooohhh Block me!! I am a RN AND I want blocked by\"], [\"Thud2\", \"/r/COVID/comments/mjxkj2/covid_sucks_rant/gtfqz0q/\", \"Why don't you go and tell the guy who's sick with \"], [\"skoomaloy\", \"/r/COVID/comments/mkie11/prevaccine_cold_sore/gtg6z00/\", \"For one, I\\u2019m a moron. Two, I suffer from health an\"], [\"Thud2\", \"/r/COVID/comments/mkg9h0/covid_arm_never_left/gtgpw5x/\", \"All capsu boy! There's 298 million people in the U\"], [\"DrainedInside\", \"/r/COVID/comments/mibnss/asu_watching_new_covid19_arizona_variant_with_a/gtgrfb1/\", \"&gt; Vaccine causes outrageous number of symptoms \"], [\"Thud2\", \"/r/COVID/comments/mkg9h0/covid_arm_never_left/gtgqq1m/\", \"I know some people have trouble with, you know, do\"], [\"roberj11\", \"/r/COVID/comments/mkkw01/covid_vaccine_applied/gtgsqft/\", \"I don\\u2019t know what country you are in but in the co\"], [\"PapiMurr31\", \"/r/COVID/comments/mibnss/asu_watching_new_covid19_arizona_variant_with_a/gthas2a/\", \"Political theatre used to create panic. Actually p\"], [\"shugzybossman\", \"/r/COVID/comments/mjxkj2/covid_sucks_rant/gth7bv2/\", \"People reading this can see you don't want to enga\"], [\"6018674512\", \"/r/COVID/comments/mibnss/asu_watching_new_covid19_arizona_variant_with_a/gti1vuy/\", \"You should probably smoke a little less weed.\"], [\"cucumbersnails\", \"/r/COVID/comments/mkr0yh/vaccine_effects_on_ferritin_levels/gti6oxt/\", \"Iron definitely is such a common diagnosis, the va\"], [\"Haykat12\", \"/r/COVID/comments/mkk1pm/exposed_to_covid_day_of_first_vaccine/gti6rcy/\", \"But what\\u2019s strange is my county is now only consid\"], [\"GrouchoBark\", \"/r/COVID/comments/mko2b9/vaccinations_vs_current_variants_need_perspective/gtirb1k/\", \"I totally agree with your assessment. With the \\u201cbe\"], [\"boomerismylastname\", \"/r/COVID/comments/ml9a8s/april_2020/gtk3hnp/\", \"Not when nurses and other health care workers are \"], [\"roberj11\", \"/r/COVID/comments/ml9a8s/april_2020/gtk9tda/\", \"So you only left your home 20 times in a whole yea\"], [\"GrouchoBark\", \"/r/COVID/comments/ml8rwo/i_may_be_infected/gtkbehd/\", \"You know the answer, act as you are infected until\"], [\"shugzybossman\", \"/r/COVID/comments/mjxkj2/covid_sucks_rant/gtkjpga/\", \"You must be really embarrassed then being correcte\"], [\"iDioticArmyBianca\", \"/r/COVID/comments/mkenlf/so_i_made_a_poster/gtkw9fd/\", \"Oh yea u are!! \\nFacts abt u being stupid:)\"], [\"Ok-Requirement-2992\", \"/r/COVID/comments/mkenlf/so_i_made_a_poster/gtkypww/\", \"False facts &lt;33\"], [\"sneakpeekbot\", \"/r/COVID/comments/mkenlf/so_i_made_a_poster/gtkxajp/\", \"Here's a sneak peek of /r/tooktoomuch using the [t\"]], \"hoverlabel\": {\"namelength\": 0}, \"hovertemplate\": \"sentiment=negative<br>Date comment was posted on=%{x}<br>Comment positivity=%{y}<br>author=%{customdata[0]}<br>permalink=%{customdata[1]}<br>preview=%{customdata[2]}\", \"legendgroup\": \"negative\", \"marker\": {\"color\": \"indianred\", \"symbol\": \"circle\"}, \"mode\": \"markers\", \"name\": \"negative\", \"showlegend\": true, \"type\": \"scatter\", \"x\": [\"2021-04-04T20:08:46\", \"2021-04-04T21:05:53\", \"2021-04-04T21:11:51\", \"2021-04-04T22:17:13\", \"2021-04-04T22:03:22\", \"2021-04-04T22:24:28\", \"2021-04-04T22:56:19\", \"2021-04-05T01:06:42\", \"2021-04-05T01:32:46\", \"2021-04-05T02:33:20\", \"2021-04-05T02:38:31\", \"2021-04-05T05:40:22\", \"2021-04-05T09:48:23\", \"2021-04-05T13:05:08\", \"2021-04-05T15:42:36\", \"2021-04-05T15:54:05\", \"2021-04-05T15:48:53\", \"2021-04-05T16:03:56\", \"2021-04-05T18:19:38\", \"2021-04-05T17:53:22\", \"2021-04-05T21:47:57\", \"2021-04-05T22:27:26\", \"2021-04-05T22:27:59\", \"2021-04-06T01:22:50\", \"2021-04-06T11:29:56\", \"2021-04-06T12:38:07\", \"2021-04-06T12:52:58\", \"2021-04-06T14:03:09\", \"2021-04-06T15:37:45\", \"2021-04-06T15:55:45\", \"2021-04-06T15:45:21\"], \"xaxis\": \"x\", \"y\": [-0.6, -0.12285714285714285, -0.1830357142857143, -0.055113636363636365, -0.20833333333333334, -0.16666666666666666, -0.047034143518518506, -0.056249999999999994, -0.039999999999999994, -0.15999999999999998, -0.1, -0.2, -0.15357142857142855, -0.34, -0.15000000000000002, -1.0, -0.2, -0.5, -0.08333333333333333, -0.3458333333333333, -0.17708333333333331, -0.019999999999999997, -0.11846938775510206, -0.019999999999999997, -0.006944444444444457, -0.09444444444444444, -0.1, -0.1277777777777778, -0.14999999999999997, -0.4000000000000001, -0.325], \"yaxis\": \"y\"}],\n",
       "                        {\"legend\": {\"title\": {\"text\": \"sentiment\"}, \"tracegroupgap\": 0}, \"template\": {\"data\": {\"bar\": [{\"error_x\": {\"color\": \"#2a3f5f\"}, \"error_y\": {\"color\": \"#2a3f5f\"}, \"marker\": {\"line\": {\"color\": \"#E5ECF6\", \"width\": 0.5}}, \"type\": \"bar\"}], \"barpolar\": [{\"marker\": {\"line\": {\"color\": \"#E5ECF6\", \"width\": 0.5}}, \"type\": \"barpolar\"}], \"carpet\": [{\"aaxis\": {\"endlinecolor\": \"#2a3f5f\", \"gridcolor\": \"white\", \"linecolor\": \"white\", \"minorgridcolor\": \"white\", \"startlinecolor\": \"#2a3f5f\"}, \"baxis\": {\"endlinecolor\": \"#2a3f5f\", \"gridcolor\": \"white\", \"linecolor\": \"white\", \"minorgridcolor\": \"white\", \"startlinecolor\": \"#2a3f5f\"}, \"type\": \"carpet\"}], \"choropleth\": [{\"colorbar\": {\"outlinewidth\": 0, \"ticks\": \"\"}, \"type\": \"choropleth\"}], \"contour\": [{\"colorbar\": {\"outlinewidth\": 0, \"ticks\": \"\"}, \"colorscale\": [[0.0, \"#0d0887\"], [0.1111111111111111, \"#46039f\"], [0.2222222222222222, \"#7201a8\"], [0.3333333333333333, \"#9c179e\"], [0.4444444444444444, \"#bd3786\"], [0.5555555555555556, \"#d8576b\"], [0.6666666666666666, \"#ed7953\"], [0.7777777777777778, \"#fb9f3a\"], [0.8888888888888888, \"#fdca26\"], [1.0, \"#f0f921\"]], \"type\": \"contour\"}], \"contourcarpet\": [{\"colorbar\": {\"outlinewidth\": 0, \"ticks\": \"\"}, \"type\": \"contourcarpet\"}], \"heatmap\": [{\"colorbar\": {\"outlinewidth\": 0, \"ticks\": \"\"}, \"colorscale\": [[0.0, \"#0d0887\"], [0.1111111111111111, \"#46039f\"], [0.2222222222222222, \"#7201a8\"], [0.3333333333333333, \"#9c179e\"], [0.4444444444444444, \"#bd3786\"], [0.5555555555555556, \"#d8576b\"], [0.6666666666666666, \"#ed7953\"], [0.7777777777777778, \"#fb9f3a\"], [0.8888888888888888, \"#fdca26\"], [1.0, \"#f0f921\"]], \"type\": \"heatmap\"}], \"heatmapgl\": [{\"colorbar\": {\"outlinewidth\": 0, \"ticks\": \"\"}, \"colorscale\": [[0.0, \"#0d0887\"], [0.1111111111111111, \"#46039f\"], [0.2222222222222222, \"#7201a8\"], [0.3333333333333333, \"#9c179e\"], [0.4444444444444444, \"#bd3786\"], [0.5555555555555556, \"#d8576b\"], [0.6666666666666666, \"#ed7953\"], [0.7777777777777778, \"#fb9f3a\"], [0.8888888888888888, \"#fdca26\"], [1.0, \"#f0f921\"]], \"type\": \"heatmapgl\"}], \"histogram\": [{\"marker\": {\"colorbar\": {\"outlinewidth\": 0, \"ticks\": \"\"}}, \"type\": \"histogram\"}], \"histogram2d\": [{\"colorbar\": {\"outlinewidth\": 0, \"ticks\": \"\"}, \"colorscale\": [[0.0, \"#0d0887\"], [0.1111111111111111, \"#46039f\"], [0.2222222222222222, \"#7201a8\"], [0.3333333333333333, \"#9c179e\"], [0.4444444444444444, \"#bd3786\"], [0.5555555555555556, \"#d8576b\"], [0.6666666666666666, \"#ed7953\"], [0.7777777777777778, \"#fb9f3a\"], [0.8888888888888888, \"#fdca26\"], [1.0, \"#f0f921\"]], \"type\": \"histogram2d\"}], \"histogram2dcontour\": [{\"colorbar\": {\"outlinewidth\": 0, \"ticks\": \"\"}, \"colorscale\": [[0.0, \"#0d0887\"], [0.1111111111111111, \"#46039f\"], [0.2222222222222222, \"#7201a8\"], [0.3333333333333333, \"#9c179e\"], [0.4444444444444444, \"#bd3786\"], [0.5555555555555556, \"#d8576b\"], [0.6666666666666666, \"#ed7953\"], [0.7777777777777778, \"#fb9f3a\"], [0.8888888888888888, \"#fdca26\"], [1.0, \"#f0f921\"]], \"type\": \"histogram2dcontour\"}], \"mesh3d\": [{\"colorbar\": {\"outlinewidth\": 0, \"ticks\": \"\"}, \"type\": \"mesh3d\"}], \"parcoords\": [{\"line\": {\"colorbar\": {\"outlinewidth\": 0, \"ticks\": \"\"}}, \"type\": \"parcoords\"}], \"pie\": [{\"automargin\": true, \"type\": \"pie\"}], \"scatter\": [{\"marker\": {\"colorbar\": {\"outlinewidth\": 0, \"ticks\": \"\"}}, \"type\": \"scatter\"}], \"scatter3d\": [{\"line\": {\"colorbar\": {\"outlinewidth\": 0, \"ticks\": \"\"}}, \"marker\": {\"colorbar\": {\"outlinewidth\": 0, \"ticks\": \"\"}}, \"type\": \"scatter3d\"}], \"scattercarpet\": [{\"marker\": {\"colorbar\": {\"outlinewidth\": 0, \"ticks\": \"\"}}, \"type\": \"scattercarpet\"}], \"scattergeo\": [{\"marker\": {\"colorbar\": {\"outlinewidth\": 0, \"ticks\": \"\"}}, \"type\": \"scattergeo\"}], \"scattergl\": [{\"marker\": {\"colorbar\": {\"outlinewidth\": 0, \"ticks\": \"\"}}, \"type\": \"scattergl\"}], \"scattermapbox\": [{\"marker\": {\"colorbar\": {\"outlinewidth\": 0, \"ticks\": \"\"}}, \"type\": \"scattermapbox\"}], \"scatterpolar\": [{\"marker\": {\"colorbar\": {\"outlinewidth\": 0, \"ticks\": \"\"}}, \"type\": \"scatterpolar\"}], \"scatterpolargl\": [{\"marker\": {\"colorbar\": {\"outlinewidth\": 0, \"ticks\": \"\"}}, \"type\": \"scatterpolargl\"}], \"scatterternary\": [{\"marker\": {\"colorbar\": {\"outlinewidth\": 0, \"ticks\": \"\"}}, \"type\": \"scatterternary\"}], \"surface\": [{\"colorbar\": {\"outlinewidth\": 0, \"ticks\": \"\"}, \"colorscale\": [[0.0, \"#0d0887\"], [0.1111111111111111, \"#46039f\"], [0.2222222222222222, \"#7201a8\"], [0.3333333333333333, \"#9c179e\"], [0.4444444444444444, \"#bd3786\"], [0.5555555555555556, \"#d8576b\"], [0.6666666666666666, \"#ed7953\"], [0.7777777777777778, \"#fb9f3a\"], [0.8888888888888888, \"#fdca26\"], [1.0, \"#f0f921\"]], \"type\": \"surface\"}], \"table\": [{\"cells\": {\"fill\": {\"color\": \"#EBF0F8\"}, \"line\": {\"color\": \"white\"}}, \"header\": {\"fill\": {\"color\": \"#C8D4E3\"}, \"line\": {\"color\": \"white\"}}, \"type\": \"table\"}]}, \"layout\": {\"annotationdefaults\": {\"arrowcolor\": \"#2a3f5f\", \"arrowhead\": 0, \"arrowwidth\": 1}, \"coloraxis\": {\"colorbar\": {\"outlinewidth\": 0, \"ticks\": \"\"}}, \"colorscale\": {\"diverging\": [[0, \"#8e0152\"], [0.1, \"#c51b7d\"], [0.2, \"#de77ae\"], [0.3, \"#f1b6da\"], [0.4, \"#fde0ef\"], [0.5, \"#f7f7f7\"], [0.6, \"#e6f5d0\"], [0.7, \"#b8e186\"], [0.8, \"#7fbc41\"], [0.9, \"#4d9221\"], [1, \"#276419\"]], \"sequential\": [[0.0, \"#0d0887\"], [0.1111111111111111, \"#46039f\"], [0.2222222222222222, \"#7201a8\"], [0.3333333333333333, \"#9c179e\"], [0.4444444444444444, \"#bd3786\"], [0.5555555555555556, \"#d8576b\"], [0.6666666666666666, \"#ed7953\"], [0.7777777777777778, \"#fb9f3a\"], [0.8888888888888888, \"#fdca26\"], [1.0, \"#f0f921\"]], \"sequentialminus\": [[0.0, \"#0d0887\"], [0.1111111111111111, \"#46039f\"], [0.2222222222222222, \"#7201a8\"], [0.3333333333333333, \"#9c179e\"], [0.4444444444444444, \"#bd3786\"], [0.5555555555555556, \"#d8576b\"], [0.6666666666666666, \"#ed7953\"], [0.7777777777777778, \"#fb9f3a\"], [0.8888888888888888, \"#fdca26\"], [1.0, \"#f0f921\"]]}, \"colorway\": [\"#636efa\", \"#EF553B\", \"#00cc96\", \"#ab63fa\", \"#FFA15A\", \"#19d3f3\", \"#FF6692\", \"#B6E880\", \"#FF97FF\", \"#FECB52\"], \"font\": {\"color\": \"#2a3f5f\"}, \"geo\": {\"bgcolor\": \"white\", \"lakecolor\": \"white\", \"landcolor\": \"#E5ECF6\", \"showlakes\": true, \"showland\": true, \"subunitcolor\": \"white\"}, \"hoverlabel\": {\"align\": \"left\"}, \"hovermode\": \"closest\", \"mapbox\": {\"style\": \"light\"}, \"paper_bgcolor\": \"white\", \"plot_bgcolor\": \"#E5ECF6\", \"polar\": {\"angularaxis\": {\"gridcolor\": \"white\", \"linecolor\": \"white\", \"ticks\": \"\"}, \"bgcolor\": \"#E5ECF6\", \"radialaxis\": {\"gridcolor\": \"white\", \"linecolor\": \"white\", \"ticks\": \"\"}}, \"scene\": {\"xaxis\": {\"backgroundcolor\": \"#E5ECF6\", \"gridcolor\": \"white\", \"gridwidth\": 2, \"linecolor\": \"white\", \"showbackground\": true, \"ticks\": \"\", \"zerolinecolor\": \"white\"}, \"yaxis\": {\"backgroundcolor\": \"#E5ECF6\", \"gridcolor\": \"white\", \"gridwidth\": 2, \"linecolor\": \"white\", \"showbackground\": true, \"ticks\": \"\", \"zerolinecolor\": \"white\"}, \"zaxis\": {\"backgroundcolor\": \"#E5ECF6\", \"gridcolor\": \"white\", \"gridwidth\": 2, \"linecolor\": \"white\", \"showbackground\": true, \"ticks\": \"\", \"zerolinecolor\": \"white\"}}, \"shapedefaults\": {\"line\": {\"color\": \"#2a3f5f\"}}, \"ternary\": {\"aaxis\": {\"gridcolor\": \"white\", \"linecolor\": \"white\", \"ticks\": \"\"}, \"baxis\": {\"gridcolor\": \"white\", \"linecolor\": \"white\", \"ticks\": \"\"}, \"bgcolor\": \"#E5ECF6\", \"caxis\": {\"gridcolor\": \"white\", \"linecolor\": \"white\", \"ticks\": \"\"}}, \"title\": {\"x\": 0.05}, \"xaxis\": {\"automargin\": true, \"gridcolor\": \"white\", \"linecolor\": \"white\", \"ticks\": \"\", \"title\": {\"standoff\": 15}, \"zerolinecolor\": \"white\", \"zerolinewidth\": 2}, \"yaxis\": {\"automargin\": true, \"gridcolor\": \"white\", \"linecolor\": \"white\", \"ticks\": \"\", \"title\": {\"standoff\": 15}, \"zerolinecolor\": \"white\", \"zerolinewidth\": 2}}}, \"title\": {\"text\": \"Comment sentiment in /r/covid for the past 48h\"}, \"xaxis\": {\"anchor\": \"y\", \"domain\": [0.0, 1.0], \"title\": {\"text\": \"Date comment was posted on\"}}, \"yaxis\": {\"anchor\": \"x\", \"domain\": [0.0, 1.0], \"title\": {\"text\": \"Comment positivity\"}}},\n",
       "                        {\"responsive\": true}\n",
       "                    ).then(function(){\n",
       "                            \n",
       "var gd = document.getElementById('c04ad03d-3775-4035-a9d9-d7449c19f6f5');\n",
       "var x = new MutationObserver(function (mutations, observer) {{\n",
       "        var display = window.getComputedStyle(gd).display;\n",
       "        if (!display || display === 'none') {{\n",
       "            console.log([gd, 'removed!']);\n",
       "            Plotly.purge(gd);\n",
       "            observer.disconnect();\n",
       "        }}\n",
       "}});\n",
       "\n",
       "// Listen for the removal of the full notebook cells\n",
       "var notebookContainer = gd.closest('#notebook-container');\n",
       "if (notebookContainer) {{\n",
       "    x.observe(notebookContainer, {childList: true});\n",
       "}}\n",
       "\n",
       "// Listen for the clearing of the current output cell\n",
       "var outputEl = gd.closest('.output');\n",
       "if (outputEl) {{\n",
       "    x.observe(outputEl, {childList: true});\n",
       "}}\n",
       "\n",
       "                        })\n",
       "                };\n",
       "                });\n",
       "            </script>\n",
       "        </div>"
      ]
     },
     "metadata": {},
     "output_type": "display_data"
    }
   ],
   "source": [
    "data = get_reddit_data(data_type=\"comment\", after=TIMEFRAME, size=1000, sort_type=\"score\", sort=\"desc\", subreddit=SUBREDDIT_OF_INTEREST).get(\"data\")\n",
    "df = pandas.DataFrame.from_records(data)[[\"author\", \"body\", \"created_utc\", \"score\", \"permalink\"]]\n",
    "\n",
    "df[\"sentiment_polarity\"] = df.apply(lambda row: textblob.TextBlob(row[\"body\"]).sentiment.polarity, axis=1)\n",
    "df[\"sentiment_subjectivity\"] = df.apply(lambda row: textblob.TextBlob(row[\"body\"]).sentiment.subjectivity, axis=1)\n",
    "df[\"sentiment\"] = df.apply(lambda row: \"positive\" if row[\"sentiment_polarity\"] >= 0 else \"negative\", axis=1)\n",
    "\n",
    "df[\"preview\"] = df[\"body\"].str[0:50]\n",
    "\n",
    "df[\"date\"] = pandas.to_datetime(df['created_utc'],unit='s')\n",
    "\n",
    "px.scatter(df, x=\"date\", \n",
    "               y=\"sentiment_polarity\",\n",
    "               hover_data=[\"author\", \"permalink\", \"preview\"],\n",
    "               color_discrete_map={\"positive\": \"lightseagreen\", \"negative\": \"indianred\"},\n",
    "               color=\"sentiment\",\n",
    "               size_max=10,\n",
    "               labels={\"sentiment_polarity\": \"Comment positivity\", \"date\": \"Date comment was posted on\"},\n",
    "               title=f\"Comment sentiment in /r/{SUBREDDIT_OF_INTEREST} for the past {TIMEFRAME}\",\n",
    "          )\n"
   ]
  }
 ],
 "metadata": {
  "hide_input": false,
  "kernelspec": {
   "display_name": "Python 3",
   "language": "python",
   "name": "python3"
  },
  "language_info": {
   "codemirror_mode": {
    "name": "ipython",
    "version": 3
   },
   "file_extension": ".py",
   "mimetype": "text/x-python",
   "name": "python",
   "nbconvert_exporter": "python",
   "pygments_lexer": "ipython3",
   "version": "3.7.4"
  },
  "toc": {
   "base_numbering": 1,
   "nav_menu": {},
   "number_sections": true,
   "sideBar": true,
   "skip_h1_title": false,
   "title_cell": "Table of Contents",
   "title_sidebar": "Contents",
   "toc_cell": false,
   "toc_position": {},
   "toc_section_display": true,
   "toc_window_display": false
  }
 },
 "nbformat": 4,
 "nbformat_minor": 4
}
